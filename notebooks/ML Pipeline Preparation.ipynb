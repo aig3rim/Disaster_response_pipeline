{
 "cells": [
  {
   "cell_type": "markdown",
   "metadata": {},
   "source": [
    "# ML Pipeline Preparation\n",
    "Follow the instructions below to help you create your ML pipeline.\n",
    "### 1. Import libraries and load data from database.\n",
    "- Import Python libraries\n",
    "- Load dataset from database with [`read_sql_table`](https://pandas.pydata.org/pandas-docs/stable/generated/pandas.read_sql_table.html)\n",
    "- Define feature and target variables X and Y"
   ]
  },
  {
   "cell_type": "code",
   "execution_count": 58,
   "metadata": {},
   "outputs": [
    {
     "name": "stdout",
     "output_type": "stream",
     "text": [
      "[nltk_data] Downloading package punkt to /root/nltk_data...\n",
      "[nltk_data]   Package punkt is already up-to-date!\n",
      "[nltk_data] Downloading package stopwords to /root/nltk_data...\n",
      "[nltk_data]   Package stopwords is already up-to-date!\n"
     ]
    }
   ],
   "source": [
    "# import libraries\n",
    "import pandas as pd\n",
    "from sqlalchemy import create_engine\n",
    "import numpy as np\n",
    "from sklearn.pipeline import Pipeline\n",
    "from sklearn.feature_extraction.text import CountVectorizer, TfidfTransformer\n",
    "from sklearn.model_selection import train_test_split, GridSearchCV\n",
    "from sklearn.ensemble import RandomForestClassifier\n",
    "from sklearn.multioutput import MultiOutputClassifier\n",
    "from sklearn.metrics import accuracy_score, precision_score, recall_score, f1_score, make_scorer\n",
    "from sklearn.model_selection import GridSearchCV\n",
    "from sklearn.tree import DecisionTreeClassifier\n",
    "from sklearn.svm import SVC\n",
    "import warnings\n",
    "import re\n",
    "import pickle\n",
    "import nltk\n",
    "from nltk.corpus import stopwords\n",
    "from nltk.tokenize import word_tokenize\n",
    "from nltk.stem.porter import PorterStemmer\n",
    "nltk.download('punkt')\n",
    "nltk.download('stopwords')\n",
    "warnings.simplefilter('ignore')"
   ]
  },
  {
   "cell_type": "code",
   "execution_count": 59,
   "metadata": {},
   "outputs": [],
   "source": [
    "# load data from database\n",
    "engine = create_engine('sqlite:///disaster_response.db')\n",
    "df = pd.read_sql_table('disaster_response', engine)"
   ]
  },
  {
   "cell_type": "code",
   "execution_count": 60,
   "metadata": {},
   "outputs": [
    {
     "data": {
      "text/html": [
       "<div>\n",
       "<style scoped>\n",
       "    .dataframe tbody tr th:only-of-type {\n",
       "        vertical-align: middle;\n",
       "    }\n",
       "\n",
       "    .dataframe tbody tr th {\n",
       "        vertical-align: top;\n",
       "    }\n",
       "\n",
       "    .dataframe thead th {\n",
       "        text-align: right;\n",
       "    }\n",
       "</style>\n",
       "<table border=\"1\" class=\"dataframe\">\n",
       "  <thead>\n",
       "    <tr style=\"text-align: right;\">\n",
       "      <th></th>\n",
       "      <th>id</th>\n",
       "      <th>message</th>\n",
       "      <th>original</th>\n",
       "      <th>genre</th>\n",
       "      <th>related</th>\n",
       "      <th>request</th>\n",
       "      <th>offer</th>\n",
       "      <th>aid_related</th>\n",
       "      <th>medical_help</th>\n",
       "      <th>medical_products</th>\n",
       "      <th>...</th>\n",
       "      <th>aid_centers</th>\n",
       "      <th>other_infrastructure</th>\n",
       "      <th>weather_related</th>\n",
       "      <th>floods</th>\n",
       "      <th>storm</th>\n",
       "      <th>fire</th>\n",
       "      <th>earthquake</th>\n",
       "      <th>cold</th>\n",
       "      <th>other_weather</th>\n",
       "      <th>direct_report</th>\n",
       "    </tr>\n",
       "  </thead>\n",
       "  <tbody>\n",
       "    <tr>\n",
       "      <th>0</th>\n",
       "      <td>2</td>\n",
       "      <td>Weather update - a cold front from Cuba that c...</td>\n",
       "      <td>Un front froid se retrouve sur Cuba ce matin. ...</td>\n",
       "      <td>direct</td>\n",
       "      <td>1</td>\n",
       "      <td>0</td>\n",
       "      <td>0</td>\n",
       "      <td>0</td>\n",
       "      <td>0</td>\n",
       "      <td>0</td>\n",
       "      <td>...</td>\n",
       "      <td>0</td>\n",
       "      <td>0</td>\n",
       "      <td>0</td>\n",
       "      <td>0</td>\n",
       "      <td>0</td>\n",
       "      <td>0</td>\n",
       "      <td>0</td>\n",
       "      <td>0</td>\n",
       "      <td>0</td>\n",
       "      <td>0</td>\n",
       "    </tr>\n",
       "    <tr>\n",
       "      <th>1</th>\n",
       "      <td>7</td>\n",
       "      <td>Is the Hurricane over or is it not over</td>\n",
       "      <td>Cyclone nan fini osinon li pa fini</td>\n",
       "      <td>direct</td>\n",
       "      <td>1</td>\n",
       "      <td>0</td>\n",
       "      <td>0</td>\n",
       "      <td>1</td>\n",
       "      <td>0</td>\n",
       "      <td>0</td>\n",
       "      <td>...</td>\n",
       "      <td>0</td>\n",
       "      <td>0</td>\n",
       "      <td>1</td>\n",
       "      <td>0</td>\n",
       "      <td>1</td>\n",
       "      <td>0</td>\n",
       "      <td>0</td>\n",
       "      <td>0</td>\n",
       "      <td>0</td>\n",
       "      <td>0</td>\n",
       "    </tr>\n",
       "    <tr>\n",
       "      <th>2</th>\n",
       "      <td>8</td>\n",
       "      <td>Looking for someone but no name</td>\n",
       "      <td>Patnm, di Maryani relem pou li banm nouvel li ...</td>\n",
       "      <td>direct</td>\n",
       "      <td>1</td>\n",
       "      <td>0</td>\n",
       "      <td>0</td>\n",
       "      <td>0</td>\n",
       "      <td>0</td>\n",
       "      <td>0</td>\n",
       "      <td>...</td>\n",
       "      <td>0</td>\n",
       "      <td>0</td>\n",
       "      <td>0</td>\n",
       "      <td>0</td>\n",
       "      <td>0</td>\n",
       "      <td>0</td>\n",
       "      <td>0</td>\n",
       "      <td>0</td>\n",
       "      <td>0</td>\n",
       "      <td>0</td>\n",
       "    </tr>\n",
       "  </tbody>\n",
       "</table>\n",
       "<p>3 rows × 40 columns</p>\n",
       "</div>"
      ],
      "text/plain": [
       "   id                                            message  \\\n",
       "0   2  Weather update - a cold front from Cuba that c...   \n",
       "1   7            Is the Hurricane over or is it not over   \n",
       "2   8                    Looking for someone but no name   \n",
       "\n",
       "                                            original   genre  related  \\\n",
       "0  Un front froid se retrouve sur Cuba ce matin. ...  direct        1   \n",
       "1                 Cyclone nan fini osinon li pa fini  direct        1   \n",
       "2  Patnm, di Maryani relem pou li banm nouvel li ...  direct        1   \n",
       "\n",
       "   request  offer  aid_related  medical_help  medical_products      ...        \\\n",
       "0        0      0            0             0                 0      ...         \n",
       "1        0      0            1             0                 0      ...         \n",
       "2        0      0            0             0                 0      ...         \n",
       "\n",
       "   aid_centers  other_infrastructure  weather_related  floods  storm  fire  \\\n",
       "0            0                     0                0       0      0     0   \n",
       "1            0                     0                1       0      1     0   \n",
       "2            0                     0                0       0      0     0   \n",
       "\n",
       "   earthquake  cold  other_weather  direct_report  \n",
       "0           0     0              0              0  \n",
       "1           0     0              0              0  \n",
       "2           0     0              0              0  \n",
       "\n",
       "[3 rows x 40 columns]"
      ]
     },
     "execution_count": 60,
     "metadata": {},
     "output_type": "execute_result"
    }
   ],
   "source": [
    "df.head(3)"
   ]
  },
  {
   "cell_type": "code",
   "execution_count": 61,
   "metadata": {},
   "outputs": [
    {
     "name": "stdout",
     "output_type": "stream",
     "text": [
      "<class 'pandas.core.frame.DataFrame'>\n",
      "RangeIndex: 26216 entries, 0 to 26215\n",
      "Data columns (total 40 columns):\n",
      "id                        26216 non-null int64\n",
      "message                   26216 non-null object\n",
      "original                  10170 non-null object\n",
      "genre                     26216 non-null object\n",
      "related                   26216 non-null int64\n",
      "request                   26216 non-null int64\n",
      "offer                     26216 non-null int64\n",
      "aid_related               26216 non-null int64\n",
      "medical_help              26216 non-null int64\n",
      "medical_products          26216 non-null int64\n",
      "search_and_rescue         26216 non-null int64\n",
      "security                  26216 non-null int64\n",
      "military                  26216 non-null int64\n",
      "child_alone               26216 non-null int64\n",
      "water                     26216 non-null int64\n",
      "food                      26216 non-null int64\n",
      "shelter                   26216 non-null int64\n",
      "clothing                  26216 non-null int64\n",
      "money                     26216 non-null int64\n",
      "missing_people            26216 non-null int64\n",
      "refugees                  26216 non-null int64\n",
      "death                     26216 non-null int64\n",
      "other_aid                 26216 non-null int64\n",
      "infrastructure_related    26216 non-null int64\n",
      "transport                 26216 non-null int64\n",
      "buildings                 26216 non-null int64\n",
      "electricity               26216 non-null int64\n",
      "tools                     26216 non-null int64\n",
      "hospitals                 26216 non-null int64\n",
      "shops                     26216 non-null int64\n",
      "aid_centers               26216 non-null int64\n",
      "other_infrastructure      26216 non-null int64\n",
      "weather_related           26216 non-null int64\n",
      "floods                    26216 non-null int64\n",
      "storm                     26216 non-null int64\n",
      "fire                      26216 non-null int64\n",
      "earthquake                26216 non-null int64\n",
      "cold                      26216 non-null int64\n",
      "other_weather             26216 non-null int64\n",
      "direct_report             26216 non-null int64\n",
      "dtypes: int64(37), object(3)\n",
      "memory usage: 8.0+ MB\n"
     ]
    }
   ],
   "source": [
    "df.info()"
   ]
  },
  {
   "cell_type": "code",
   "execution_count": 62,
   "metadata": {},
   "outputs": [
    {
     "data": {
      "text/plain": [
       "(26216, 40)"
      ]
     },
     "execution_count": 62,
     "metadata": {},
     "output_type": "execute_result"
    }
   ],
   "source": [
    "df.shape"
   ]
  },
  {
   "cell_type": "code",
   "execution_count": 63,
   "metadata": {},
   "outputs": [],
   "source": [
    "X = df['message']\n",
    "y = df.drop(['id', 'message', 'original', 'genre'], axis = 1)"
   ]
  },
  {
   "cell_type": "code",
   "execution_count": 64,
   "metadata": {},
   "outputs": [
    {
     "data": {
      "text/plain": [
       "0    Weather update - a cold front from Cuba that c...\n",
       "1              Is the Hurricane over or is it not over\n",
       "2                      Looking for someone but no name\n",
       "3    UN reports Leogane 80-90 destroyed. Only Hospi...\n",
       "4    says: west side of Haiti, rest of the country ...\n",
       "5               Information about the National Palace-\n",
       "6                       Storm at sacred heart of jesus\n",
       "7    Please, we need tents and water. We are in Sil...\n",
       "8      I would like to receive the messages, thank you\n",
       "9    I am in Croix-des-Bouquets. We have health iss...\n",
       "Name: message, dtype: object"
      ]
     },
     "execution_count": 64,
     "metadata": {},
     "output_type": "execute_result"
    }
   ],
   "source": [
    "X[:10]"
   ]
  },
  {
   "cell_type": "code",
   "execution_count": 65,
   "metadata": {},
   "outputs": [
    {
     "data": {
      "text/html": [
       "<div>\n",
       "<style scoped>\n",
       "    .dataframe tbody tr th:only-of-type {\n",
       "        vertical-align: middle;\n",
       "    }\n",
       "\n",
       "    .dataframe tbody tr th {\n",
       "        vertical-align: top;\n",
       "    }\n",
       "\n",
       "    .dataframe thead th {\n",
       "        text-align: right;\n",
       "    }\n",
       "</style>\n",
       "<table border=\"1\" class=\"dataframe\">\n",
       "  <thead>\n",
       "    <tr style=\"text-align: right;\">\n",
       "      <th></th>\n",
       "      <th>related</th>\n",
       "      <th>request</th>\n",
       "      <th>offer</th>\n",
       "      <th>aid_related</th>\n",
       "      <th>medical_help</th>\n",
       "      <th>medical_products</th>\n",
       "      <th>search_and_rescue</th>\n",
       "      <th>security</th>\n",
       "      <th>military</th>\n",
       "      <th>child_alone</th>\n",
       "      <th>...</th>\n",
       "      <th>aid_centers</th>\n",
       "      <th>other_infrastructure</th>\n",
       "      <th>weather_related</th>\n",
       "      <th>floods</th>\n",
       "      <th>storm</th>\n",
       "      <th>fire</th>\n",
       "      <th>earthquake</th>\n",
       "      <th>cold</th>\n",
       "      <th>other_weather</th>\n",
       "      <th>direct_report</th>\n",
       "    </tr>\n",
       "  </thead>\n",
       "  <tbody>\n",
       "    <tr>\n",
       "      <th>0</th>\n",
       "      <td>1</td>\n",
       "      <td>0</td>\n",
       "      <td>0</td>\n",
       "      <td>0</td>\n",
       "      <td>0</td>\n",
       "      <td>0</td>\n",
       "      <td>0</td>\n",
       "      <td>0</td>\n",
       "      <td>0</td>\n",
       "      <td>0</td>\n",
       "      <td>...</td>\n",
       "      <td>0</td>\n",
       "      <td>0</td>\n",
       "      <td>0</td>\n",
       "      <td>0</td>\n",
       "      <td>0</td>\n",
       "      <td>0</td>\n",
       "      <td>0</td>\n",
       "      <td>0</td>\n",
       "      <td>0</td>\n",
       "      <td>0</td>\n",
       "    </tr>\n",
       "    <tr>\n",
       "      <th>1</th>\n",
       "      <td>1</td>\n",
       "      <td>0</td>\n",
       "      <td>0</td>\n",
       "      <td>1</td>\n",
       "      <td>0</td>\n",
       "      <td>0</td>\n",
       "      <td>0</td>\n",
       "      <td>0</td>\n",
       "      <td>0</td>\n",
       "      <td>0</td>\n",
       "      <td>...</td>\n",
       "      <td>0</td>\n",
       "      <td>0</td>\n",
       "      <td>1</td>\n",
       "      <td>0</td>\n",
       "      <td>1</td>\n",
       "      <td>0</td>\n",
       "      <td>0</td>\n",
       "      <td>0</td>\n",
       "      <td>0</td>\n",
       "      <td>0</td>\n",
       "    </tr>\n",
       "    <tr>\n",
       "      <th>2</th>\n",
       "      <td>1</td>\n",
       "      <td>0</td>\n",
       "      <td>0</td>\n",
       "      <td>0</td>\n",
       "      <td>0</td>\n",
       "      <td>0</td>\n",
       "      <td>0</td>\n",
       "      <td>0</td>\n",
       "      <td>0</td>\n",
       "      <td>0</td>\n",
       "      <td>...</td>\n",
       "      <td>0</td>\n",
       "      <td>0</td>\n",
       "      <td>0</td>\n",
       "      <td>0</td>\n",
       "      <td>0</td>\n",
       "      <td>0</td>\n",
       "      <td>0</td>\n",
       "      <td>0</td>\n",
       "      <td>0</td>\n",
       "      <td>0</td>\n",
       "    </tr>\n",
       "    <tr>\n",
       "      <th>3</th>\n",
       "      <td>1</td>\n",
       "      <td>1</td>\n",
       "      <td>0</td>\n",
       "      <td>1</td>\n",
       "      <td>0</td>\n",
       "      <td>1</td>\n",
       "      <td>0</td>\n",
       "      <td>0</td>\n",
       "      <td>0</td>\n",
       "      <td>0</td>\n",
       "      <td>...</td>\n",
       "      <td>0</td>\n",
       "      <td>0</td>\n",
       "      <td>0</td>\n",
       "      <td>0</td>\n",
       "      <td>0</td>\n",
       "      <td>0</td>\n",
       "      <td>0</td>\n",
       "      <td>0</td>\n",
       "      <td>0</td>\n",
       "      <td>0</td>\n",
       "    </tr>\n",
       "    <tr>\n",
       "      <th>4</th>\n",
       "      <td>1</td>\n",
       "      <td>0</td>\n",
       "      <td>0</td>\n",
       "      <td>0</td>\n",
       "      <td>0</td>\n",
       "      <td>0</td>\n",
       "      <td>0</td>\n",
       "      <td>0</td>\n",
       "      <td>0</td>\n",
       "      <td>0</td>\n",
       "      <td>...</td>\n",
       "      <td>0</td>\n",
       "      <td>0</td>\n",
       "      <td>0</td>\n",
       "      <td>0</td>\n",
       "      <td>0</td>\n",
       "      <td>0</td>\n",
       "      <td>0</td>\n",
       "      <td>0</td>\n",
       "      <td>0</td>\n",
       "      <td>0</td>\n",
       "    </tr>\n",
       "    <tr>\n",
       "      <th>5</th>\n",
       "      <td>0</td>\n",
       "      <td>0</td>\n",
       "      <td>0</td>\n",
       "      <td>0</td>\n",
       "      <td>0</td>\n",
       "      <td>0</td>\n",
       "      <td>0</td>\n",
       "      <td>0</td>\n",
       "      <td>0</td>\n",
       "      <td>0</td>\n",
       "      <td>...</td>\n",
       "      <td>0</td>\n",
       "      <td>0</td>\n",
       "      <td>0</td>\n",
       "      <td>0</td>\n",
       "      <td>0</td>\n",
       "      <td>0</td>\n",
       "      <td>0</td>\n",
       "      <td>0</td>\n",
       "      <td>0</td>\n",
       "      <td>0</td>\n",
       "    </tr>\n",
       "    <tr>\n",
       "      <th>6</th>\n",
       "      <td>1</td>\n",
       "      <td>0</td>\n",
       "      <td>0</td>\n",
       "      <td>0</td>\n",
       "      <td>0</td>\n",
       "      <td>0</td>\n",
       "      <td>0</td>\n",
       "      <td>0</td>\n",
       "      <td>0</td>\n",
       "      <td>0</td>\n",
       "      <td>...</td>\n",
       "      <td>0</td>\n",
       "      <td>0</td>\n",
       "      <td>1</td>\n",
       "      <td>0</td>\n",
       "      <td>1</td>\n",
       "      <td>0</td>\n",
       "      <td>0</td>\n",
       "      <td>0</td>\n",
       "      <td>0</td>\n",
       "      <td>0</td>\n",
       "    </tr>\n",
       "    <tr>\n",
       "      <th>7</th>\n",
       "      <td>1</td>\n",
       "      <td>1</td>\n",
       "      <td>0</td>\n",
       "      <td>1</td>\n",
       "      <td>0</td>\n",
       "      <td>0</td>\n",
       "      <td>0</td>\n",
       "      <td>0</td>\n",
       "      <td>0</td>\n",
       "      <td>0</td>\n",
       "      <td>...</td>\n",
       "      <td>0</td>\n",
       "      <td>0</td>\n",
       "      <td>0</td>\n",
       "      <td>0</td>\n",
       "      <td>0</td>\n",
       "      <td>0</td>\n",
       "      <td>0</td>\n",
       "      <td>0</td>\n",
       "      <td>0</td>\n",
       "      <td>1</td>\n",
       "    </tr>\n",
       "    <tr>\n",
       "      <th>8</th>\n",
       "      <td>0</td>\n",
       "      <td>0</td>\n",
       "      <td>0</td>\n",
       "      <td>0</td>\n",
       "      <td>0</td>\n",
       "      <td>0</td>\n",
       "      <td>0</td>\n",
       "      <td>0</td>\n",
       "      <td>0</td>\n",
       "      <td>0</td>\n",
       "      <td>...</td>\n",
       "      <td>0</td>\n",
       "      <td>0</td>\n",
       "      <td>0</td>\n",
       "      <td>0</td>\n",
       "      <td>0</td>\n",
       "      <td>0</td>\n",
       "      <td>0</td>\n",
       "      <td>0</td>\n",
       "      <td>0</td>\n",
       "      <td>0</td>\n",
       "    </tr>\n",
       "    <tr>\n",
       "      <th>9</th>\n",
       "      <td>1</td>\n",
       "      <td>1</td>\n",
       "      <td>0</td>\n",
       "      <td>1</td>\n",
       "      <td>1</td>\n",
       "      <td>1</td>\n",
       "      <td>0</td>\n",
       "      <td>0</td>\n",
       "      <td>0</td>\n",
       "      <td>0</td>\n",
       "      <td>...</td>\n",
       "      <td>0</td>\n",
       "      <td>0</td>\n",
       "      <td>0</td>\n",
       "      <td>0</td>\n",
       "      <td>0</td>\n",
       "      <td>0</td>\n",
       "      <td>0</td>\n",
       "      <td>0</td>\n",
       "      <td>0</td>\n",
       "      <td>1</td>\n",
       "    </tr>\n",
       "  </tbody>\n",
       "</table>\n",
       "<p>10 rows × 36 columns</p>\n",
       "</div>"
      ],
      "text/plain": [
       "   related  request  offer  aid_related  medical_help  medical_products  \\\n",
       "0        1        0      0            0             0                 0   \n",
       "1        1        0      0            1             0                 0   \n",
       "2        1        0      0            0             0                 0   \n",
       "3        1        1      0            1             0                 1   \n",
       "4        1        0      0            0             0                 0   \n",
       "5        0        0      0            0             0                 0   \n",
       "6        1        0      0            0             0                 0   \n",
       "7        1        1      0            1             0                 0   \n",
       "8        0        0      0            0             0                 0   \n",
       "9        1        1      0            1             1                 1   \n",
       "\n",
       "   search_and_rescue  security  military  child_alone      ...        \\\n",
       "0                  0         0         0            0      ...         \n",
       "1                  0         0         0            0      ...         \n",
       "2                  0         0         0            0      ...         \n",
       "3                  0         0         0            0      ...         \n",
       "4                  0         0         0            0      ...         \n",
       "5                  0         0         0            0      ...         \n",
       "6                  0         0         0            0      ...         \n",
       "7                  0         0         0            0      ...         \n",
       "8                  0         0         0            0      ...         \n",
       "9                  0         0         0            0      ...         \n",
       "\n",
       "   aid_centers  other_infrastructure  weather_related  floods  storm  fire  \\\n",
       "0            0                     0                0       0      0     0   \n",
       "1            0                     0                1       0      1     0   \n",
       "2            0                     0                0       0      0     0   \n",
       "3            0                     0                0       0      0     0   \n",
       "4            0                     0                0       0      0     0   \n",
       "5            0                     0                0       0      0     0   \n",
       "6            0                     0                1       0      1     0   \n",
       "7            0                     0                0       0      0     0   \n",
       "8            0                     0                0       0      0     0   \n",
       "9            0                     0                0       0      0     0   \n",
       "\n",
       "   earthquake  cold  other_weather  direct_report  \n",
       "0           0     0              0              0  \n",
       "1           0     0              0              0  \n",
       "2           0     0              0              0  \n",
       "3           0     0              0              0  \n",
       "4           0     0              0              0  \n",
       "5           0     0              0              0  \n",
       "6           0     0              0              0  \n",
       "7           0     0              0              1  \n",
       "8           0     0              0              0  \n",
       "9           0     0              0              1  \n",
       "\n",
       "[10 rows x 36 columns]"
      ]
     },
     "execution_count": 65,
     "metadata": {},
     "output_type": "execute_result"
    }
   ],
   "source": [
    "y[:10]"
   ]
  },
  {
   "cell_type": "code",
   "execution_count": 66,
   "metadata": {},
   "outputs": [
    {
     "data": {
      "text/plain": [
       "(26216,)"
      ]
     },
     "execution_count": 66,
     "metadata": {},
     "output_type": "execute_result"
    }
   ],
   "source": [
    "X.shape"
   ]
  },
  {
   "cell_type": "code",
   "execution_count": 67,
   "metadata": {},
   "outputs": [
    {
     "data": {
      "text/plain": [
       "(26216, 36)"
      ]
     },
     "execution_count": 67,
     "metadata": {},
     "output_type": "execute_result"
    }
   ],
   "source": [
    "y.shape"
   ]
  },
  {
   "cell_type": "markdown",
   "metadata": {},
   "source": [
    "### 2. Write a tokenization function to process your text data"
   ]
  },
  {
   "cell_type": "code",
   "execution_count": 68,
   "metadata": {},
   "outputs": [],
   "source": [
    "def tokenize(text):\n",
    "    '''\n",
    "    Tokenization function to process data.\n",
    "    \n",
    "    Parameters:\n",
    "    text (pandas Series): text to be processed\n",
    "    \n",
    "    Returns:\n",
    "    clean_tokens (list): list of words converted to a lower case with removed stop words\n",
    "    '''\n",
    "    # Converting everything to lower case\n",
    "    text = re.sub(r\"[^a-zA-Z0-9]\", \" \", text.lower())\n",
    "    \n",
    "    # Tokenize words\n",
    "    tokens = word_tokenize(text)\n",
    "    \n",
    "    # normalization word tokens and remove stop words\n",
    "    normlizer = PorterStemmer()\n",
    "    stop_words = stopwords.words(\"english\")\n",
    "    \n",
    "    clean_tokens = [normlizer.stem(word) for word in tokens if word not in stop_words]\n",
    "    \n",
    "    return clean_tokens"
   ]
  },
  {
   "cell_type": "markdown",
   "metadata": {},
   "source": [
    "### 3. Build a machine learning pipeline\n",
    "This machine pipeline should take in the `message` column as input and output classification results on the other 36 categories in the dataset. You may find the [MultiOutputClassifier](http://scikit-learn.org/stable/modules/generated/sklearn.multioutput.MultiOutputClassifier.html) helpful for predicting multiple target variables."
   ]
  },
  {
   "cell_type": "code",
   "execution_count": 69,
   "metadata": {},
   "outputs": [],
   "source": [
    "pipeline = Pipeline([\n",
    "    ('vect', CountVectorizer(tokenizer = tokenize)),\n",
    "    ('tfidf', TfidfTransformer()),\n",
    "    ('clf', MultiOutputClassifier(RandomForestClassifier()))\n",
    "    ])"
   ]
  },
  {
   "cell_type": "markdown",
   "metadata": {},
   "source": [
    "### 4. Train pipeline\n",
    "- Split data into train and test sets\n",
    "- Train pipeline"
   ]
  },
  {
   "cell_type": "code",
   "execution_count": 70,
   "metadata": {},
   "outputs": [
    {
     "name": "stdout",
     "output_type": "stream",
     "text": [
      "CPU times: user 1min 27s, sys: 515 ms, total: 1min 28s\n",
      "Wall time: 1min 29s\n"
     ]
    }
   ],
   "source": [
    "%%time\n",
    "X_train, X_test, y_train, y_test = train_test_split(X, y, random_state = 777)\n",
    "\n",
    "model_initial = pipeline.fit(X_train, y_train)"
   ]
  },
  {
   "cell_type": "markdown",
   "metadata": {},
   "source": [
    "### 5. Test your model\n",
    "Report the f1 score, precision and recall for each output category of the dataset. You can do this by iterating through the columns and calling sklearn's `classification_report` on each."
   ]
  },
  {
   "cell_type": "code",
   "execution_count": 71,
   "metadata": {},
   "outputs": [],
   "source": [
    "def eval_metrics(real_labels, predicted_labels, col_names):\n",
    "    '''\n",
    "    Evalute ML pipeline model's performance.\n",
    "    \n",
    "    Parameters:\n",
    "    real_labels (list): real labels\n",
    "    predicted_labels (list): predicted labels\n",
    "    col_names (list): list of strings containing column names.\n",
    "       \n",
    "    Returns:\n",
    "    performance_metrics (pandas DataFrame): accuracy, precision, recall and f1 score\n",
    "    '''\n",
    "    \n",
    "    metrics = []\n",
    "    \n",
    "    # Evaluate metrics for each set of labels\n",
    "    for i in range(len(col_names)):\n",
    "        accuracy = accuracy_score(real_labels[:, i], predicted_labels[:, i])\n",
    "        precision = precision_score(real_labels[:, i], predicted_labels[:, i], average='micro')\n",
    "        recall = recall_score(real_labels[:, i], predicted_labels[:, i], average='micro')\n",
    "        f1 = f1_score(real_labels[:, i], predicted_labels[:, i], average='micro')\n",
    "        \n",
    "        metrics.append([accuracy, precision, recall, f1])\n",
    "    \n",
    "    # store metrics\n",
    "    metrics = np.array(metrics)\n",
    "    performance_metrics = pd.DataFrame(data = metrics, index = col_names, columns = ['Accuracy', 'Precision', 'Recall', 'F1'])\n",
    "      \n",
    "    return performance_metrics"
   ]
  },
  {
   "cell_type": "code",
   "execution_count": 72,
   "metadata": {},
   "outputs": [
    {
     "name": "stdout",
     "output_type": "stream",
     "text": [
      "CPU times: user 9.23 s, sys: 172 ms, total: 9.4 s\n",
      "Wall time: 9.44 s\n"
     ]
    }
   ],
   "source": [
    "%%time\n",
    "# Calculate evaluation metrics for test set\n",
    "y_test_pred = pipeline.predict(X_test)\n",
    "col_names = list(y.columns.values)\n",
    "\n",
    "eval_metrics_test = eval_metrics(np.array(y_test), y_test_pred, col_names)"
   ]
  },
  {
   "cell_type": "code",
   "execution_count": 73,
   "metadata": {},
   "outputs": [
    {
     "data": {
      "text/html": [
       "<div>\n",
       "<style scoped>\n",
       "    .dataframe tbody tr th:only-of-type {\n",
       "        vertical-align: middle;\n",
       "    }\n",
       "\n",
       "    .dataframe tbody tr th {\n",
       "        vertical-align: top;\n",
       "    }\n",
       "\n",
       "    .dataframe thead th {\n",
       "        text-align: right;\n",
       "    }\n",
       "</style>\n",
       "<table border=\"1\" class=\"dataframe\">\n",
       "  <thead>\n",
       "    <tr style=\"text-align: right;\">\n",
       "      <th></th>\n",
       "      <th>Accuracy</th>\n",
       "      <th>Precision</th>\n",
       "      <th>Recall</th>\n",
       "      <th>F1</th>\n",
       "    </tr>\n",
       "  </thead>\n",
       "  <tbody>\n",
       "    <tr>\n",
       "      <th>related</th>\n",
       "      <td>0.810192</td>\n",
       "      <td>0.810192</td>\n",
       "      <td>0.810192</td>\n",
       "      <td>0.810192</td>\n",
       "    </tr>\n",
       "    <tr>\n",
       "      <th>request</th>\n",
       "      <td>0.882667</td>\n",
       "      <td>0.882667</td>\n",
       "      <td>0.882667</td>\n",
       "      <td>0.882667</td>\n",
       "    </tr>\n",
       "    <tr>\n",
       "      <th>offer</th>\n",
       "      <td>0.994507</td>\n",
       "      <td>0.994507</td>\n",
       "      <td>0.994507</td>\n",
       "      <td>0.994507</td>\n",
       "    </tr>\n",
       "    <tr>\n",
       "      <th>aid_related</th>\n",
       "      <td>0.746262</td>\n",
       "      <td>0.746262</td>\n",
       "      <td>0.746262</td>\n",
       "      <td>0.746262</td>\n",
       "    </tr>\n",
       "    <tr>\n",
       "      <th>medical_help</th>\n",
       "      <td>0.924168</td>\n",
       "      <td>0.924168</td>\n",
       "      <td>0.924168</td>\n",
       "      <td>0.924168</td>\n",
       "    </tr>\n",
       "    <tr>\n",
       "      <th>medical_products</th>\n",
       "      <td>0.948276</td>\n",
       "      <td>0.948276</td>\n",
       "      <td>0.948276</td>\n",
       "      <td>0.948276</td>\n",
       "    </tr>\n",
       "    <tr>\n",
       "      <th>search_and_rescue</th>\n",
       "      <td>0.973146</td>\n",
       "      <td>0.973146</td>\n",
       "      <td>0.973146</td>\n",
       "      <td>0.973146</td>\n",
       "    </tr>\n",
       "    <tr>\n",
       "      <th>security</th>\n",
       "      <td>0.981080</td>\n",
       "      <td>0.981080</td>\n",
       "      <td>0.981080</td>\n",
       "      <td>0.981080</td>\n",
       "    </tr>\n",
       "    <tr>\n",
       "      <th>military</th>\n",
       "      <td>0.967043</td>\n",
       "      <td>0.967043</td>\n",
       "      <td>0.967043</td>\n",
       "      <td>0.967043</td>\n",
       "    </tr>\n",
       "    <tr>\n",
       "      <th>child_alone</th>\n",
       "      <td>1.000000</td>\n",
       "      <td>1.000000</td>\n",
       "      <td>1.000000</td>\n",
       "      <td>1.000000</td>\n",
       "    </tr>\n",
       "    <tr>\n",
       "      <th>water</th>\n",
       "      <td>0.948276</td>\n",
       "      <td>0.948276</td>\n",
       "      <td>0.948276</td>\n",
       "      <td>0.948276</td>\n",
       "    </tr>\n",
       "    <tr>\n",
       "      <th>food</th>\n",
       "      <td>0.928441</td>\n",
       "      <td>0.928441</td>\n",
       "      <td>0.928441</td>\n",
       "      <td>0.928441</td>\n",
       "    </tr>\n",
       "    <tr>\n",
       "      <th>shelter</th>\n",
       "      <td>0.930424</td>\n",
       "      <td>0.930424</td>\n",
       "      <td>0.930424</td>\n",
       "      <td>0.930424</td>\n",
       "    </tr>\n",
       "    <tr>\n",
       "      <th>clothing</th>\n",
       "      <td>0.986573</td>\n",
       "      <td>0.986573</td>\n",
       "      <td>0.986573</td>\n",
       "      <td>0.986573</td>\n",
       "    </tr>\n",
       "    <tr>\n",
       "      <th>money</th>\n",
       "      <td>0.979554</td>\n",
       "      <td>0.979554</td>\n",
       "      <td>0.979554</td>\n",
       "      <td>0.979554</td>\n",
       "    </tr>\n",
       "    <tr>\n",
       "      <th>missing_people</th>\n",
       "      <td>0.985810</td>\n",
       "      <td>0.985810</td>\n",
       "      <td>0.985810</td>\n",
       "      <td>0.985810</td>\n",
       "    </tr>\n",
       "    <tr>\n",
       "      <th>refugees</th>\n",
       "      <td>0.965822</td>\n",
       "      <td>0.965822</td>\n",
       "      <td>0.965822</td>\n",
       "      <td>0.965822</td>\n",
       "    </tr>\n",
       "    <tr>\n",
       "      <th>death</th>\n",
       "      <td>0.954684</td>\n",
       "      <td>0.954684</td>\n",
       "      <td>0.954684</td>\n",
       "      <td>0.954684</td>\n",
       "    </tr>\n",
       "    <tr>\n",
       "      <th>other_aid</th>\n",
       "      <td>0.863900</td>\n",
       "      <td>0.863900</td>\n",
       "      <td>0.863900</td>\n",
       "      <td>0.863900</td>\n",
       "    </tr>\n",
       "    <tr>\n",
       "      <th>infrastructure_related</th>\n",
       "      <td>0.930119</td>\n",
       "      <td>0.930119</td>\n",
       "      <td>0.930119</td>\n",
       "      <td>0.930119</td>\n",
       "    </tr>\n",
       "    <tr>\n",
       "      <th>transport</th>\n",
       "      <td>0.951785</td>\n",
       "      <td>0.951785</td>\n",
       "      <td>0.951785</td>\n",
       "      <td>0.951785</td>\n",
       "    </tr>\n",
       "    <tr>\n",
       "      <th>buildings</th>\n",
       "      <td>0.953616</td>\n",
       "      <td>0.953616</td>\n",
       "      <td>0.953616</td>\n",
       "      <td>0.953616</td>\n",
       "    </tr>\n",
       "    <tr>\n",
       "      <th>electricity</th>\n",
       "      <td>0.981385</td>\n",
       "      <td>0.981385</td>\n",
       "      <td>0.981385</td>\n",
       "      <td>0.981385</td>\n",
       "    </tr>\n",
       "    <tr>\n",
       "      <th>tools</th>\n",
       "      <td>0.993439</td>\n",
       "      <td>0.993439</td>\n",
       "      <td>0.993439</td>\n",
       "      <td>0.993439</td>\n",
       "    </tr>\n",
       "    <tr>\n",
       "      <th>hospitals</th>\n",
       "      <td>0.987641</td>\n",
       "      <td>0.987641</td>\n",
       "      <td>0.987641</td>\n",
       "      <td>0.987641</td>\n",
       "    </tr>\n",
       "    <tr>\n",
       "      <th>shops</th>\n",
       "      <td>0.996033</td>\n",
       "      <td>0.996033</td>\n",
       "      <td>0.996033</td>\n",
       "      <td>0.996033</td>\n",
       "    </tr>\n",
       "    <tr>\n",
       "      <th>aid_centers</th>\n",
       "      <td>0.987794</td>\n",
       "      <td>0.987794</td>\n",
       "      <td>0.987794</td>\n",
       "      <td>0.987794</td>\n",
       "    </tr>\n",
       "    <tr>\n",
       "      <th>other_infrastructure</th>\n",
       "      <td>0.952243</td>\n",
       "      <td>0.952243</td>\n",
       "      <td>0.952243</td>\n",
       "      <td>0.952243</td>\n",
       "    </tr>\n",
       "    <tr>\n",
       "      <th>weather_related</th>\n",
       "      <td>0.863900</td>\n",
       "      <td>0.863900</td>\n",
       "      <td>0.863900</td>\n",
       "      <td>0.863900</td>\n",
       "    </tr>\n",
       "    <tr>\n",
       "      <th>floods</th>\n",
       "      <td>0.939274</td>\n",
       "      <td>0.939274</td>\n",
       "      <td>0.939274</td>\n",
       "      <td>0.939274</td>\n",
       "    </tr>\n",
       "    <tr>\n",
       "      <th>storm</th>\n",
       "      <td>0.930424</td>\n",
       "      <td>0.930424</td>\n",
       "      <td>0.930424</td>\n",
       "      <td>0.930424</td>\n",
       "    </tr>\n",
       "    <tr>\n",
       "      <th>fire</th>\n",
       "      <td>0.986726</td>\n",
       "      <td>0.986726</td>\n",
       "      <td>0.986726</td>\n",
       "      <td>0.986726</td>\n",
       "    </tr>\n",
       "    <tr>\n",
       "      <th>earthquake</th>\n",
       "      <td>0.964144</td>\n",
       "      <td>0.964144</td>\n",
       "      <td>0.964144</td>\n",
       "      <td>0.964144</td>\n",
       "    </tr>\n",
       "    <tr>\n",
       "      <th>cold</th>\n",
       "      <td>0.984132</td>\n",
       "      <td>0.984132</td>\n",
       "      <td>0.984132</td>\n",
       "      <td>0.984132</td>\n",
       "    </tr>\n",
       "    <tr>\n",
       "      <th>other_weather</th>\n",
       "      <td>0.942020</td>\n",
       "      <td>0.942020</td>\n",
       "      <td>0.942020</td>\n",
       "      <td>0.942020</td>\n",
       "    </tr>\n",
       "    <tr>\n",
       "      <th>direct_report</th>\n",
       "      <td>0.841471</td>\n",
       "      <td>0.841471</td>\n",
       "      <td>0.841471</td>\n",
       "      <td>0.841471</td>\n",
       "    </tr>\n",
       "  </tbody>\n",
       "</table>\n",
       "</div>"
      ],
      "text/plain": [
       "                        Accuracy  Precision    Recall        F1\n",
       "related                 0.810192   0.810192  0.810192  0.810192\n",
       "request                 0.882667   0.882667  0.882667  0.882667\n",
       "offer                   0.994507   0.994507  0.994507  0.994507\n",
       "aid_related             0.746262   0.746262  0.746262  0.746262\n",
       "medical_help            0.924168   0.924168  0.924168  0.924168\n",
       "medical_products        0.948276   0.948276  0.948276  0.948276\n",
       "search_and_rescue       0.973146   0.973146  0.973146  0.973146\n",
       "security                0.981080   0.981080  0.981080  0.981080\n",
       "military                0.967043   0.967043  0.967043  0.967043\n",
       "child_alone             1.000000   1.000000  1.000000  1.000000\n",
       "water                   0.948276   0.948276  0.948276  0.948276\n",
       "food                    0.928441   0.928441  0.928441  0.928441\n",
       "shelter                 0.930424   0.930424  0.930424  0.930424\n",
       "clothing                0.986573   0.986573  0.986573  0.986573\n",
       "money                   0.979554   0.979554  0.979554  0.979554\n",
       "missing_people          0.985810   0.985810  0.985810  0.985810\n",
       "refugees                0.965822   0.965822  0.965822  0.965822\n",
       "death                   0.954684   0.954684  0.954684  0.954684\n",
       "other_aid               0.863900   0.863900  0.863900  0.863900\n",
       "infrastructure_related  0.930119   0.930119  0.930119  0.930119\n",
       "transport               0.951785   0.951785  0.951785  0.951785\n",
       "buildings               0.953616   0.953616  0.953616  0.953616\n",
       "electricity             0.981385   0.981385  0.981385  0.981385\n",
       "tools                   0.993439   0.993439  0.993439  0.993439\n",
       "hospitals               0.987641   0.987641  0.987641  0.987641\n",
       "shops                   0.996033   0.996033  0.996033  0.996033\n",
       "aid_centers             0.987794   0.987794  0.987794  0.987794\n",
       "other_infrastructure    0.952243   0.952243  0.952243  0.952243\n",
       "weather_related         0.863900   0.863900  0.863900  0.863900\n",
       "floods                  0.939274   0.939274  0.939274  0.939274\n",
       "storm                   0.930424   0.930424  0.930424  0.930424\n",
       "fire                    0.986726   0.986726  0.986726  0.986726\n",
       "earthquake              0.964144   0.964144  0.964144  0.964144\n",
       "cold                    0.984132   0.984132  0.984132  0.984132\n",
       "other_weather           0.942020   0.942020  0.942020  0.942020\n",
       "direct_report           0.841471   0.841471  0.841471  0.841471"
      ]
     },
     "execution_count": 73,
     "metadata": {},
     "output_type": "execute_result"
    }
   ],
   "source": [
    "eval_metrics_test"
   ]
  },
  {
   "cell_type": "code",
   "execution_count": 74,
   "metadata": {},
   "outputs": [
    {
     "data": {
      "text/html": [
       "<div>\n",
       "<style scoped>\n",
       "    .dataframe tbody tr th:only-of-type {\n",
       "        vertical-align: middle;\n",
       "    }\n",
       "\n",
       "    .dataframe tbody tr th {\n",
       "        vertical-align: top;\n",
       "    }\n",
       "\n",
       "    .dataframe thead th {\n",
       "        text-align: right;\n",
       "    }\n",
       "</style>\n",
       "<table border=\"1\" class=\"dataframe\">\n",
       "  <thead>\n",
       "    <tr style=\"text-align: right;\">\n",
       "      <th></th>\n",
       "      <th>Accuracy</th>\n",
       "      <th>Precision</th>\n",
       "      <th>Recall</th>\n",
       "      <th>F1</th>\n",
       "    </tr>\n",
       "  </thead>\n",
       "  <tbody>\n",
       "    <tr>\n",
       "      <th>count</th>\n",
       "      <td>36.000000</td>\n",
       "      <td>36.000000</td>\n",
       "      <td>36.000000</td>\n",
       "      <td>36.000000</td>\n",
       "    </tr>\n",
       "    <tr>\n",
       "      <th>mean</th>\n",
       "      <td>0.943249</td>\n",
       "      <td>0.943249</td>\n",
       "      <td>0.943249</td>\n",
       "      <td>0.943249</td>\n",
       "    </tr>\n",
       "    <tr>\n",
       "      <th>std</th>\n",
       "      <td>0.056982</td>\n",
       "      <td>0.056982</td>\n",
       "      <td>0.056982</td>\n",
       "      <td>0.056982</td>\n",
       "    </tr>\n",
       "    <tr>\n",
       "      <th>min</th>\n",
       "      <td>0.746262</td>\n",
       "      <td>0.746262</td>\n",
       "      <td>0.746262</td>\n",
       "      <td>0.746262</td>\n",
       "    </tr>\n",
       "    <tr>\n",
       "      <th>25%</th>\n",
       "      <td>0.930348</td>\n",
       "      <td>0.930348</td>\n",
       "      <td>0.930348</td>\n",
       "      <td>0.930348</td>\n",
       "    </tr>\n",
       "    <tr>\n",
       "      <th>50%</th>\n",
       "      <td>0.954150</td>\n",
       "      <td>0.954150</td>\n",
       "      <td>0.954150</td>\n",
       "      <td>0.954150</td>\n",
       "    </tr>\n",
       "    <tr>\n",
       "      <th>75%</th>\n",
       "      <td>0.984551</td>\n",
       "      <td>0.984551</td>\n",
       "      <td>0.984551</td>\n",
       "      <td>0.984551</td>\n",
       "    </tr>\n",
       "    <tr>\n",
       "      <th>max</th>\n",
       "      <td>1.000000</td>\n",
       "      <td>1.000000</td>\n",
       "      <td>1.000000</td>\n",
       "      <td>1.000000</td>\n",
       "    </tr>\n",
       "  </tbody>\n",
       "</table>\n",
       "</div>"
      ],
      "text/plain": [
       "        Accuracy  Precision     Recall         F1\n",
       "count  36.000000  36.000000  36.000000  36.000000\n",
       "mean    0.943249   0.943249   0.943249   0.943249\n",
       "std     0.056982   0.056982   0.056982   0.056982\n",
       "min     0.746262   0.746262   0.746262   0.746262\n",
       "25%     0.930348   0.930348   0.930348   0.930348\n",
       "50%     0.954150   0.954150   0.954150   0.954150\n",
       "75%     0.984551   0.984551   0.984551   0.984551\n",
       "max     1.000000   1.000000   1.000000   1.000000"
      ]
     },
     "execution_count": 74,
     "metadata": {},
     "output_type": "execute_result"
    }
   ],
   "source": [
    "eval_metrics_test.describe()"
   ]
  },
  {
   "cell_type": "code",
   "execution_count": 75,
   "metadata": {},
   "outputs": [
    {
     "name": "stdout",
     "output_type": "stream",
     "text": [
      "F1 score mean:  0.943249245584\n"
     ]
    }
   ],
   "source": [
    "# Print mean f1 score\n",
    "print(\"F1 score mean: \", eval_metrics_test['F1'].mean())"
   ]
  },
  {
   "cell_type": "markdown",
   "metadata": {},
   "source": [
    "### 6. Improve your model\n",
    "Use grid search to find better parameters. "
   ]
  },
  {
   "cell_type": "code",
   "execution_count": 76,
   "metadata": {},
   "outputs": [],
   "source": [
    "# Define mean f1 score to use in grid search scoring object\n",
    "def define_mean_f1_score(real_labels, predicted_labels):\n",
    "    \"\"\"Mean F1 score for all classifiers.\n",
    "    \n",
    "    Parameters:\n",
    "    real_labels (list): real labels\n",
    "    predicted_labels (list): predicted labels\n",
    "        \n",
    "    Returns:\n",
    "    Mean F1 score for all  classifiers.\n",
    "    \"\"\"\n",
    "    \n",
    "    f1_score_list = []\n",
    "    for i in range(np.shape(predicted_labels)[1]):\n",
    "        f1 = f1_score(np.array(real_labels)[:, i], predicted_labels[:, i], average='micro')\n",
    "        f1_score_list.append(f1)\n",
    "        \n",
    "    f1_score_avg = np.mean(f1_score_list)\n",
    "    return f1_score_avg"
   ]
  },
  {
   "cell_type": "code",
   "execution_count": 25,
   "metadata": {},
   "outputs": [
    {
     "name": "stdout",
     "output_type": "stream",
     "text": [
      "Fitting 3 folds for each of 16 candidates, totalling 48 fits\n",
      "[CV] clf__estimator__max_depth=5, clf__estimator__n_estimators=30, clf__estimator__n_jobs=-1, tfidf__use_idf=True, vect__min_df=1 \n",
      "[CV]  clf__estimator__max_depth=5, clf__estimator__n_estimators=30, clf__estimator__n_jobs=-1, tfidf__use_idf=True, vect__min_df=1, score=0.9279108602041162, total=  26.6s\n",
      "[CV] clf__estimator__max_depth=5, clf__estimator__n_estimators=30, clf__estimator__n_jobs=-1, tfidf__use_idf=True, vect__min_df=1 \n"
     ]
    },
    {
     "name": "stderr",
     "output_type": "stream",
     "text": [
      "[Parallel(n_jobs=-1)]: Done   1 out of   1 | elapsed:   42.2s remaining:    0.0s\n"
     ]
    },
    {
     "name": "stdout",
     "output_type": "stream",
     "text": [
      "[CV]  clf__estimator__max_depth=5, clf__estimator__n_estimators=30, clf__estimator__n_jobs=-1, tfidf__use_idf=True, vect__min_df=1, score=0.9281778727155596, total=  26.6s\n",
      "[CV] clf__estimator__max_depth=5, clf__estimator__n_estimators=30, clf__estimator__n_jobs=-1, tfidf__use_idf=True, vect__min_df=1 \n"
     ]
    },
    {
     "name": "stderr",
     "output_type": "stream",
     "text": [
      "[Parallel(n_jobs=-1)]: Done   2 out of   2 | elapsed:  1.4min remaining:    0.0s\n"
     ]
    },
    {
     "name": "stdout",
     "output_type": "stream",
     "text": [
      "[CV]  clf__estimator__max_depth=5, clf__estimator__n_estimators=30, clf__estimator__n_jobs=-1, tfidf__use_idf=True, vect__min_df=1, score=0.9270081036178076, total=  26.7s\n",
      "[CV] clf__estimator__max_depth=5, clf__estimator__n_estimators=30, clf__estimator__n_jobs=-1, tfidf__use_idf=True, vect__min_df=5 \n"
     ]
    },
    {
     "name": "stderr",
     "output_type": "stream",
     "text": [
      "[Parallel(n_jobs=-1)]: Done   3 out of   3 | elapsed:  2.1min remaining:    0.0s\n"
     ]
    },
    {
     "name": "stdout",
     "output_type": "stream",
     "text": [
      "[CV]  clf__estimator__max_depth=5, clf__estimator__n_estimators=30, clf__estimator__n_jobs=-1, tfidf__use_idf=True, vect__min_df=5, score=0.9289068592547385, total=  26.9s\n",
      "[CV] clf__estimator__max_depth=5, clf__estimator__n_estimators=30, clf__estimator__n_jobs=-1, tfidf__use_idf=True, vect__min_df=5 \n"
     ]
    },
    {
     "name": "stderr",
     "output_type": "stream",
     "text": [
      "[Parallel(n_jobs=-1)]: Done   4 out of   4 | elapsed:  2.8min remaining:    0.0s\n"
     ]
    },
    {
     "name": "stdout",
     "output_type": "stream",
     "text": [
      "[CV]  clf__estimator__max_depth=5, clf__estimator__n_estimators=30, clf__estimator__n_jobs=-1, tfidf__use_idf=True, vect__min_df=5, score=0.9287288509137761, total=  26.9s\n",
      "[CV] clf__estimator__max_depth=5, clf__estimator__n_estimators=30, clf__estimator__n_jobs=-1, tfidf__use_idf=True, vect__min_df=5 \n"
     ]
    },
    {
     "name": "stderr",
     "output_type": "stream",
     "text": [
      "[Parallel(n_jobs=-1)]: Done   5 out of   5 | elapsed:  3.5min remaining:    0.0s\n"
     ]
    },
    {
     "name": "stdout",
     "output_type": "stream",
     "text": [
      "[CV]  clf__estimator__max_depth=5, clf__estimator__n_estimators=30, clf__estimator__n_jobs=-1, tfidf__use_idf=True, vect__min_df=5, score=0.927626894517343, total=  27.0s\n",
      "[CV] clf__estimator__max_depth=5, clf__estimator__n_estimators=30, clf__estimator__n_jobs=-1, tfidf__use_idf=False, vect__min_df=1 \n"
     ]
    },
    {
     "name": "stderr",
     "output_type": "stream",
     "text": [
      "[Parallel(n_jobs=-1)]: Done   6 out of   6 | elapsed:  4.2min remaining:    0.0s\n"
     ]
    },
    {
     "name": "stdout",
     "output_type": "stream",
     "text": [
      "[CV]  clf__estimator__max_depth=5, clf__estimator__n_estimators=30, clf__estimator__n_jobs=-1, tfidf__use_idf=False, vect__min_df=1, score=0.9278854304411216, total=  26.6s\n",
      "[CV] clf__estimator__max_depth=5, clf__estimator__n_estimators=30, clf__estimator__n_jobs=-1, tfidf__use_idf=False, vect__min_df=1 \n"
     ]
    },
    {
     "name": "stderr",
     "output_type": "stream",
     "text": [
      "[Parallel(n_jobs=-1)]: Done   7 out of   7 | elapsed:  4.9min remaining:    0.0s\n"
     ]
    },
    {
     "name": "stdout",
     "output_type": "stream",
     "text": [
      "[CV]  clf__estimator__max_depth=5, clf__estimator__n_estimators=30, clf__estimator__n_jobs=-1, tfidf__use_idf=False, vect__min_df=1, score=0.9279447665547758, total=  26.6s\n",
      "[CV] clf__estimator__max_depth=5, clf__estimator__n_estimators=30, clf__estimator__n_jobs=-1, tfidf__use_idf=False, vect__min_df=1 \n"
     ]
    },
    {
     "name": "stderr",
     "output_type": "stream",
     "text": [
      "[Parallel(n_jobs=-1)]: Done   8 out of   8 | elapsed:  5.6min remaining:    0.0s\n"
     ]
    },
    {
     "name": "stdout",
     "output_type": "stream",
     "text": [
      "[CV]  clf__estimator__max_depth=5, clf__estimator__n_estimators=30, clf__estimator__n_jobs=-1, tfidf__use_idf=False, vect__min_df=1, score=0.9271394907266131, total=  26.7s\n",
      "[CV] clf__estimator__max_depth=5, clf__estimator__n_estimators=30, clf__estimator__n_jobs=-1, tfidf__use_idf=False, vect__min_df=5 \n"
     ]
    },
    {
     "name": "stderr",
     "output_type": "stream",
     "text": [
      "[Parallel(n_jobs=-1)]: Done   9 out of   9 | elapsed:  6.4min remaining:    0.0s\n"
     ]
    },
    {
     "name": "stdout",
     "output_type": "stream",
     "text": [
      "[CV]  clf__estimator__max_depth=5, clf__estimator__n_estimators=30, clf__estimator__n_jobs=-1, tfidf__use_idf=False, vect__min_df=5, score=0.9284406469331705, total=  26.8s\n",
      "[CV] clf__estimator__max_depth=5, clf__estimator__n_estimators=30, clf__estimator__n_jobs=-1, tfidf__use_idf=False, vect__min_df=5 \n"
     ]
    },
    {
     "name": "stderr",
     "output_type": "stream",
     "text": [
      "[Parallel(n_jobs=-1)]: Done  10 out of  10 | elapsed:  7.1min remaining:    0.0s\n"
     ]
    },
    {
     "name": "stdout",
     "output_type": "stream",
     "text": [
      "[CV]  clf__estimator__max_depth=5, clf__estimator__n_estimators=30, clf__estimator__n_jobs=-1, tfidf__use_idf=False, vect__min_df=5, score=0.9285084596344895, total=  26.7s\n",
      "[CV] clf__estimator__max_depth=5, clf__estimator__n_estimators=30, clf__estimator__n_jobs=-1, tfidf__use_idf=False, vect__min_df=5 \n"
     ]
    },
    {
     "name": "stderr",
     "output_type": "stream",
     "text": [
      "[Parallel(n_jobs=-1)]: Done  11 out of  11 | elapsed:  7.8min remaining:    0.0s\n"
     ]
    },
    {
     "name": "stdout",
     "output_type": "stream",
     "text": [
      "[CV]  clf__estimator__max_depth=5, clf__estimator__n_estimators=30, clf__estimator__n_jobs=-1, tfidf__use_idf=False, vect__min_df=5, score=0.9278049028583053, total=  26.7s\n",
      "[CV] clf__estimator__max_depth=5, clf__estimator__n_estimators=40, clf__estimator__n_jobs=-1, tfidf__use_idf=True, vect__min_df=1 \n"
     ]
    },
    {
     "name": "stderr",
     "output_type": "stream",
     "text": [
      "[Parallel(n_jobs=-1)]: Done  12 out of  12 | elapsed:  8.5min remaining:    0.0s\n"
     ]
    },
    {
     "name": "stdout",
     "output_type": "stream",
     "text": [
      "[CV]  clf__estimator__max_depth=5, clf__estimator__n_estimators=40, clf__estimator__n_jobs=-1, tfidf__use_idf=True, vect__min_df=1, score=0.9279405282609433, total=  28.3s\n",
      "[CV] clf__estimator__max_depth=5, clf__estimator__n_estimators=40, clf__estimator__n_jobs=-1, tfidf__use_idf=True, vect__min_df=1 \n"
     ]
    },
    {
     "name": "stderr",
     "output_type": "stream",
     "text": [
      "[Parallel(n_jobs=-1)]: Done  13 out of  13 | elapsed:  9.2min remaining:    0.0s\n"
     ]
    },
    {
     "name": "stdout",
     "output_type": "stream",
     "text": [
      "[CV]  clf__estimator__max_depth=5, clf__estimator__n_estimators=40, clf__estimator__n_jobs=-1, tfidf__use_idf=True, vect__min_df=1, score=0.9279617197301054, total=  28.4s\n",
      "[CV] clf__estimator__max_depth=5, clf__estimator__n_estimators=40, clf__estimator__n_jobs=-1, tfidf__use_idf=True, vect__min_df=1 \n"
     ]
    },
    {
     "name": "stderr",
     "output_type": "stream",
     "text": [
      "[Parallel(n_jobs=-1)]: Done  14 out of  14 | elapsed: 10.0min remaining:    0.0s\n"
     ]
    },
    {
     "name": "stdout",
     "output_type": "stream",
     "text": [
      "[CV]  clf__estimator__max_depth=5, clf__estimator__n_estimators=40, clf__estimator__n_jobs=-1, tfidf__use_idf=True, vect__min_df=1, score=0.9269657206794832, total=  28.7s\n",
      "[CV] clf__estimator__max_depth=5, clf__estimator__n_estimators=40, clf__estimator__n_jobs=-1, tfidf__use_idf=True, vect__min_df=5 \n"
     ]
    },
    {
     "name": "stderr",
     "output_type": "stream",
     "text": [
      "[Parallel(n_jobs=-1)]: Done  15 out of  15 | elapsed: 10.7min remaining:    0.0s\n"
     ]
    },
    {
     "name": "stdout",
     "output_type": "stream",
     "text": [
      "[CV]  clf__estimator__max_depth=5, clf__estimator__n_estimators=40, clf__estimator__n_jobs=-1, tfidf__use_idf=True, vect__min_df=5, score=0.9285762723358084, total=  28.5s\n",
      "[CV] clf__estimator__max_depth=5, clf__estimator__n_estimators=40, clf__estimator__n_jobs=-1, tfidf__use_idf=True, vect__min_df=5 \n"
     ]
    },
    {
     "name": "stderr",
     "output_type": "stream",
     "text": [
      "[Parallel(n_jobs=-1)]: Done  16 out of  16 | elapsed: 11.4min remaining:    0.0s\n"
     ]
    },
    {
     "name": "stdout",
     "output_type": "stream",
     "text": [
      "[CV]  clf__estimator__max_depth=5, clf__estimator__n_estimators=40, clf__estimator__n_jobs=-1, tfidf__use_idf=True, vect__min_df=5, score=0.9285381276913165, total=  28.7s\n",
      "[CV] clf__estimator__max_depth=5, clf__estimator__n_estimators=40, clf__estimator__n_jobs=-1, tfidf__use_idf=True, vect__min_df=5 \n"
     ]
    },
    {
     "name": "stderr",
     "output_type": "stream",
     "text": [
      "[Parallel(n_jobs=-1)]: Done  17 out of  17 | elapsed: 12.2min remaining:    0.0s\n"
     ]
    },
    {
     "name": "stdout",
     "output_type": "stream",
     "text": [
      "[CV]  clf__estimator__max_depth=5, clf__estimator__n_estimators=40, clf__estimator__n_jobs=-1, tfidf__use_idf=True, vect__min_df=5, score=0.9279235750856135, total=  28.5s\n",
      "[CV] clf__estimator__max_depth=5, clf__estimator__n_estimators=40, clf__estimator__n_jobs=-1, tfidf__use_idf=False, vect__min_df=1 \n"
     ]
    },
    {
     "name": "stderr",
     "output_type": "stream",
     "text": [
      "[Parallel(n_jobs=-1)]: Done  18 out of  18 | elapsed: 12.9min remaining:    0.0s\n"
     ]
    },
    {
     "name": "stdout",
     "output_type": "stream",
     "text": [
      "[CV]  clf__estimator__max_depth=5, clf__estimator__n_estimators=40, clf__estimator__n_jobs=-1, tfidf__use_idf=False, vect__min_df=1, score=0.9278981453226189, total=  28.4s\n",
      "[CV] clf__estimator__max_depth=5, clf__estimator__n_estimators=40, clf__estimator__n_jobs=-1, tfidf__use_idf=False, vect__min_df=1 \n"
     ]
    },
    {
     "name": "stderr",
     "output_type": "stream",
     "text": [
      "[Parallel(n_jobs=-1)]: Done  19 out of  19 | elapsed: 13.7min remaining:    0.0s\n"
     ]
    },
    {
     "name": "stdout",
     "output_type": "stream",
     "text": [
      "[CV]  clf__estimator__max_depth=5, clf__estimator__n_estimators=40, clf__estimator__n_jobs=-1, tfidf__use_idf=False, vect__min_df=1, score=0.9279066219102838, total=  28.3s\n",
      "[CV] clf__estimator__max_depth=5, clf__estimator__n_estimators=40, clf__estimator__n_jobs=-1, tfidf__use_idf=False, vect__min_df=1 \n"
     ]
    },
    {
     "name": "stderr",
     "output_type": "stream",
     "text": [
      "[Parallel(n_jobs=-1)]: Done  20 out of  20 | elapsed: 14.4min remaining:    0.0s\n"
     ]
    },
    {
     "name": "stdout",
     "output_type": "stream",
     "text": [
      "[CV]  clf__estimator__max_depth=5, clf__estimator__n_estimators=40, clf__estimator__n_jobs=-1, tfidf__use_idf=False, vect__min_df=1, score=0.9270038653239752, total=  28.3s\n",
      "[CV] clf__estimator__max_depth=5, clf__estimator__n_estimators=40, clf__estimator__n_jobs=-1, tfidf__use_idf=False, vect__min_df=5 \n"
     ]
    },
    {
     "name": "stderr",
     "output_type": "stream",
     "text": [
      "[Parallel(n_jobs=-1)]: Done  21 out of  21 | elapsed: 15.2min remaining:    0.0s\n"
     ]
    },
    {
     "name": "stdout",
     "output_type": "stream",
     "text": [
      "[CV]  clf__estimator__max_depth=5, clf__estimator__n_estimators=40, clf__estimator__n_jobs=-1, tfidf__use_idf=False, vect__min_df=5, score=0.9286822296816193, total=  28.7s\n",
      "[CV] clf__estimator__max_depth=5, clf__estimator__n_estimators=40, clf__estimator__n_jobs=-1, tfidf__use_idf=False, vect__min_df=5 \n"
     ]
    },
    {
     "name": "stderr",
     "output_type": "stream",
     "text": [
      "[Parallel(n_jobs=-1)]: Done  22 out of  22 | elapsed: 15.9min remaining:    0.0s\n"
     ]
    },
    {
     "name": "stdout",
     "output_type": "stream",
     "text": [
      "[CV]  clf__estimator__max_depth=5, clf__estimator__n_estimators=40, clf__estimator__n_jobs=-1, tfidf__use_idf=False, vect__min_df=5, score=0.9287797104397654, total=  28.5s\n",
      "[CV] clf__estimator__max_depth=5, clf__estimator__n_estimators=40, clf__estimator__n_jobs=-1, tfidf__use_idf=False, vect__min_df=5 \n"
     ]
    },
    {
     "name": "stderr",
     "output_type": "stream",
     "text": [
      "[Parallel(n_jobs=-1)]: Done  23 out of  23 | elapsed: 16.6min remaining:    0.0s\n"
     ]
    },
    {
     "name": "stdout",
     "output_type": "stream",
     "text": [
      "[CV]  clf__estimator__max_depth=5, clf__estimator__n_estimators=40, clf__estimator__n_jobs=-1, tfidf__use_idf=False, vect__min_df=5, score=0.927860000678127, total=  28.4s\n",
      "[CV] clf__estimator__max_depth=10, clf__estimator__n_estimators=30, clf__estimator__n_jobs=-1, tfidf__use_idf=True, vect__min_df=1 \n"
     ]
    },
    {
     "name": "stderr",
     "output_type": "stream",
     "text": [
      "[Parallel(n_jobs=-1)]: Done  24 out of  24 | elapsed: 17.4min remaining:    0.0s\n"
     ]
    },
    {
     "name": "stdout",
     "output_type": "stream",
     "text": [
      "[CV]  clf__estimator__max_depth=10, clf__estimator__n_estimators=30, clf__estimator__n_jobs=-1, tfidf__use_idf=True, vect__min_df=1, score=0.9293942630454683, total=  28.6s\n",
      "[CV] clf__estimator__max_depth=10, clf__estimator__n_estimators=30, clf__estimator__n_jobs=-1, tfidf__use_idf=True, vect__min_df=1 \n"
     ]
    },
    {
     "name": "stderr",
     "output_type": "stream",
     "text": [
      "[Parallel(n_jobs=-1)]: Done  25 out of  25 | elapsed: 18.1min remaining:    0.0s\n"
     ]
    },
    {
     "name": "stdout",
     "output_type": "stream",
     "text": [
      "[CV]  clf__estimator__max_depth=10, clf__estimator__n_estimators=30, clf__estimator__n_jobs=-1, tfidf__use_idf=True, vect__min_df=1, score=0.9287246126199437, total=  28.6s\n",
      "[CV] clf__estimator__max_depth=10, clf__estimator__n_estimators=30, clf__estimator__n_jobs=-1, tfidf__use_idf=True, vect__min_df=1 \n"
     ]
    },
    {
     "name": "stderr",
     "output_type": "stream",
     "text": [
      "[Parallel(n_jobs=-1)]: Done  26 out of  26 | elapsed: 18.8min remaining:    0.0s\n"
     ]
    },
    {
     "name": "stdout",
     "output_type": "stream",
     "text": [
      "[CV]  clf__estimator__max_depth=10, clf__estimator__n_estimators=30, clf__estimator__n_jobs=-1, tfidf__use_idf=True, vect__min_df=1, score=0.9285381276913165, total=  28.7s\n",
      "[CV] clf__estimator__max_depth=10, clf__estimator__n_estimators=30, clf__estimator__n_jobs=-1, tfidf__use_idf=True, vect__min_df=5 \n"
     ]
    },
    {
     "name": "stderr",
     "output_type": "stream",
     "text": [
      "[Parallel(n_jobs=-1)]: Done  27 out of  27 | elapsed: 19.6min remaining:    0.0s\n"
     ]
    },
    {
     "name": "stdout",
     "output_type": "stream",
     "text": [
      "[CV]  clf__estimator__max_depth=10, clf__estimator__n_estimators=30, clf__estimator__n_jobs=-1, tfidf__use_idf=True, vect__min_df=5, score=0.9308734275929881, total=  29.1s\n",
      "[CV] clf__estimator__max_depth=10, clf__estimator__n_estimators=30, clf__estimator__n_jobs=-1, tfidf__use_idf=True, vect__min_df=5 \n"
     ]
    },
    {
     "name": "stderr",
     "output_type": "stream",
     "text": [
      "[Parallel(n_jobs=-1)]: Done  28 out of  28 | elapsed: 20.3min remaining:    0.0s\n"
     ]
    },
    {
     "name": "stdout",
     "output_type": "stream",
     "text": [
      "[CV]  clf__estimator__max_depth=10, clf__estimator__n_estimators=30, clf__estimator__n_jobs=-1, tfidf__use_idf=True, vect__min_df=5, score=0.9311192486352693, total=  29.2s\n",
      "[CV] clf__estimator__max_depth=10, clf__estimator__n_estimators=30, clf__estimator__n_jobs=-1, tfidf__use_idf=True, vect__min_df=5 \n"
     ]
    },
    {
     "name": "stderr",
     "output_type": "stream",
     "text": [
      "[Parallel(n_jobs=-1)]: Done  29 out of  29 | elapsed: 21.1min remaining:    0.0s\n"
     ]
    },
    {
     "name": "stdout",
     "output_type": "stream",
     "text": [
      "[CV]  clf__estimator__max_depth=10, clf__estimator__n_estimators=30, clf__estimator__n_jobs=-1, tfidf__use_idf=True, vect__min_df=5, score=0.9306911809581935, total=  29.2s\n",
      "[CV] clf__estimator__max_depth=10, clf__estimator__n_estimators=30, clf__estimator__n_jobs=-1, tfidf__use_idf=False, vect__min_df=1 \n"
     ]
    },
    {
     "name": "stderr",
     "output_type": "stream",
     "text": [
      "[Parallel(n_jobs=-1)]: Done  30 out of  30 | elapsed: 21.8min remaining:    0.0s\n"
     ]
    },
    {
     "name": "stdout",
     "output_type": "stream",
     "text": [
      "[CV]  clf__estimator__max_depth=10, clf__estimator__n_estimators=30, clf__estimator__n_jobs=-1, tfidf__use_idf=False, vect__min_df=1, score=0.928902620960906, total=  28.5s\n",
      "[CV] clf__estimator__max_depth=10, clf__estimator__n_estimators=30, clf__estimator__n_jobs=-1, tfidf__use_idf=False, vect__min_df=1 \n"
     ]
    },
    {
     "name": "stderr",
     "output_type": "stream",
     "text": [
      "[Parallel(n_jobs=-1)]: Done  31 out of  31 | elapsed: 22.6min remaining:    0.0s\n"
     ]
    },
    {
     "name": "stdout",
     "output_type": "stream",
     "text": [
      "[CV]  clf__estimator__max_depth=10, clf__estimator__n_estimators=30, clf__estimator__n_jobs=-1, tfidf__use_idf=False, vect__min_df=1, score=0.9291526802970195, total=  28.6s\n",
      "[CV] clf__estimator__max_depth=10, clf__estimator__n_estimators=30, clf__estimator__n_jobs=-1, tfidf__use_idf=False, vect__min_df=1 \n"
     ]
    },
    {
     "name": "stderr",
     "output_type": "stream",
     "text": [
      "[Parallel(n_jobs=-1)]: Done  32 out of  32 | elapsed: 23.3min remaining:    0.0s\n"
     ]
    },
    {
     "name": "stdout",
     "output_type": "stream",
     "text": [
      "[CV]  clf__estimator__max_depth=10, clf__estimator__n_estimators=30, clf__estimator__n_jobs=-1, tfidf__use_idf=False, vect__min_df=1, score=0.9279829111992675, total=  28.5s\n",
      "[CV] clf__estimator__max_depth=10, clf__estimator__n_estimators=30, clf__estimator__n_jobs=-1, tfidf__use_idf=False, vect__min_df=5 \n"
     ]
    },
    {
     "name": "stderr",
     "output_type": "stream",
     "text": [
      "[Parallel(n_jobs=-1)]: Done  33 out of  33 | elapsed: 24.0min remaining:    0.0s\n"
     ]
    },
    {
     "name": "stdout",
     "output_type": "stream",
     "text": [
      "[CV]  clf__estimator__max_depth=10, clf__estimator__n_estimators=30, clf__estimator__n_jobs=-1, tfidf__use_idf=False, vect__min_df=5, score=0.9307589936595124, total=  28.9s\n",
      "[CV] clf__estimator__max_depth=10, clf__estimator__n_estimators=30, clf__estimator__n_jobs=-1, tfidf__use_idf=False, vect__min_df=5 \n"
     ]
    },
    {
     "name": "stderr",
     "output_type": "stream",
     "text": [
      "[Parallel(n_jobs=-1)]: Done  34 out of  34 | elapsed: 24.8min remaining:    0.0s\n"
     ]
    },
    {
     "name": "stdout",
     "output_type": "stream",
     "text": [
      "[CV]  clf__estimator__max_depth=10, clf__estimator__n_estimators=30, clf__estimator__n_jobs=-1, tfidf__use_idf=False, vect__min_df=5, score=0.9317210863594751, total=  29.0s\n",
      "[CV] clf__estimator__max_depth=10, clf__estimator__n_estimators=30, clf__estimator__n_jobs=-1, tfidf__use_idf=False, vect__min_df=5 \n"
     ]
    },
    {
     "name": "stderr",
     "output_type": "stream",
     "text": [
      "[Parallel(n_jobs=-1)]: Done  35 out of  35 | elapsed: 25.5min remaining:    0.0s\n"
     ]
    },
    {
     "name": "stdout",
     "output_type": "stream",
     "text": [
      "[CV]  clf__estimator__max_depth=10, clf__estimator__n_estimators=30, clf__estimator__n_jobs=-1, tfidf__use_idf=False, vect__min_df=5, score=0.930013053945004, total=  38.1s\n",
      "[CV] clf__estimator__max_depth=10, clf__estimator__n_estimators=40, clf__estimator__n_jobs=-1, tfidf__use_idf=True, vect__min_df=1 \n"
     ]
    },
    {
     "name": "stderr",
     "output_type": "stream",
     "text": [
      "[Parallel(n_jobs=-1)]: Done  36 out of  36 | elapsed: 26.5min remaining:    0.0s\n"
     ]
    },
    {
     "name": "stdout",
     "output_type": "stream",
     "text": [
      "[CV]  clf__estimator__max_depth=10, clf__estimator__n_estimators=40, clf__estimator__n_jobs=-1, tfidf__use_idf=True, vect__min_df=1, score=0.9287118977384464, total=  33.3s\n",
      "[CV] clf__estimator__max_depth=10, clf__estimator__n_estimators=40, clf__estimator__n_jobs=-1, tfidf__use_idf=True, vect__min_df=1 \n"
     ]
    },
    {
     "name": "stderr",
     "output_type": "stream",
     "text": [
      "[Parallel(n_jobs=-1)]: Done  37 out of  37 | elapsed: 27.3min remaining:    0.0s\n"
     ]
    },
    {
     "name": "stdout",
     "output_type": "stream",
     "text": [
      "[CV]  clf__estimator__max_depth=10, clf__estimator__n_estimators=40, clf__estimator__n_jobs=-1, tfidf__use_idf=True, vect__min_df=1, score=0.929284067405825, total=  34.1s\n",
      "[CV] clf__estimator__max_depth=10, clf__estimator__n_estimators=40, clf__estimator__n_jobs=-1, tfidf__use_idf=True, vect__min_df=1 \n"
     ]
    },
    {
     "name": "stderr",
     "output_type": "stream",
     "text": [
      "[Parallel(n_jobs=-1)]: Done  38 out of  38 | elapsed: 28.2min remaining:    0.0s\n"
     ]
    },
    {
     "name": "stdout",
     "output_type": "stream",
     "text": [
      "[CV]  clf__estimator__max_depth=10, clf__estimator__n_estimators=40, clf__estimator__n_jobs=-1, tfidf__use_idf=True, vect__min_df=1, score=0.9278472857966297, total=  32.5s\n",
      "[CV] clf__estimator__max_depth=10, clf__estimator__n_estimators=40, clf__estimator__n_jobs=-1, tfidf__use_idf=True, vect__min_df=5 \n"
     ]
    },
    {
     "name": "stderr",
     "output_type": "stream",
     "text": [
      "[Parallel(n_jobs=-1)]: Done  39 out of  39 | elapsed: 29.0min remaining:    0.0s\n"
     ]
    },
    {
     "name": "stdout",
     "output_type": "stream",
     "text": [
      "[CV]  clf__estimator__max_depth=10, clf__estimator__n_estimators=40, clf__estimator__n_jobs=-1, tfidf__use_idf=True, vect__min_df=5, score=0.9311065337537721, total=  31.7s\n",
      "[CV] clf__estimator__max_depth=10, clf__estimator__n_estimators=40, clf__estimator__n_jobs=-1, tfidf__use_idf=True, vect__min_df=5 \n"
     ]
    },
    {
     "name": "stderr",
     "output_type": "stream",
     "text": [
      "[Parallel(n_jobs=-1)]: Done  40 out of  40 | elapsed: 29.8min remaining:    0.0s\n"
     ]
    },
    {
     "name": "stdout",
     "output_type": "stream",
     "text": [
      "[CV]  clf__estimator__max_depth=10, clf__estimator__n_estimators=40, clf__estimator__n_jobs=-1, tfidf__use_idf=True, vect__min_df=5, score=0.9311997762180856, total=  31.9s\n",
      "[CV] clf__estimator__max_depth=10, clf__estimator__n_estimators=40, clf__estimator__n_jobs=-1, tfidf__use_idf=True, vect__min_df=5 \n"
     ]
    },
    {
     "name": "stderr",
     "output_type": "stream",
     "text": [
      "[Parallel(n_jobs=-1)]: Done  41 out of  41 | elapsed: 30.6min remaining:    0.0s\n"
     ]
    },
    {
     "name": "stdout",
     "output_type": "stream",
     "text": [
      "[CV]  clf__estimator__max_depth=10, clf__estimator__n_estimators=40, clf__estimator__n_jobs=-1, tfidf__use_idf=True, vect__min_df=5, score=0.9300935815278201, total=  32.0s\n",
      "[CV] clf__estimator__max_depth=10, clf__estimator__n_estimators=40, clf__estimator__n_jobs=-1, tfidf__use_idf=False, vect__min_df=1 \n"
     ]
    },
    {
     "name": "stderr",
     "output_type": "stream",
     "text": [
      "[Parallel(n_jobs=-1)]: Done  42 out of  42 | elapsed: 31.4min remaining:    0.0s\n"
     ]
    },
    {
     "name": "stdout",
     "output_type": "stream",
     "text": [
      "[CV]  clf__estimator__max_depth=10, clf__estimator__n_estimators=40, clf__estimator__n_jobs=-1, tfidf__use_idf=False, vect__min_df=1, score=0.9293306886379818, total=  31.1s\n",
      "[CV] clf__estimator__max_depth=10, clf__estimator__n_estimators=40, clf__estimator__n_jobs=-1, tfidf__use_idf=False, vect__min_df=1 \n"
     ]
    },
    {
     "name": "stderr",
     "output_type": "stream",
     "text": [
      "[Parallel(n_jobs=-1)]: Done  43 out of  43 | elapsed: 32.2min remaining:    0.0s\n"
     ]
    },
    {
     "name": "stdout",
     "output_type": "stream",
     "text": [
      "[CV]  clf__estimator__max_depth=10, clf__estimator__n_estimators=40, clf__estimator__n_jobs=-1, tfidf__use_idf=False, vect__min_df=1, score=0.9289195741362357, total=  30.9s\n",
      "[CV] clf__estimator__max_depth=10, clf__estimator__n_estimators=40, clf__estimator__n_jobs=-1, tfidf__use_idf=False, vect__min_df=1 \n"
     ]
    },
    {
     "name": "stderr",
     "output_type": "stream",
     "text": [
      "[Parallel(n_jobs=-1)]: Done  44 out of  44 | elapsed: 33.0min remaining:    0.0s\n"
     ]
    },
    {
     "name": "stdout",
     "output_type": "stream",
     "text": [
      "[CV]  clf__estimator__max_depth=10, clf__estimator__n_estimators=40, clf__estimator__n_jobs=-1, tfidf__use_idf=False, vect__min_df=1, score=0.928211779066219, total=  30.8s\n",
      "[CV] clf__estimator__max_depth=10, clf__estimator__n_estimators=40, clf__estimator__n_jobs=-1, tfidf__use_idf=False, vect__min_df=5 \n"
     ]
    },
    {
     "name": "stderr",
     "output_type": "stream",
     "text": [
      "[Parallel(n_jobs=-1)]: Done  45 out of  45 | elapsed: 33.8min remaining:    0.0s\n"
     ]
    },
    {
     "name": "stdout",
     "output_type": "stream",
     "text": [
      "[CV]  clf__estimator__max_depth=10, clf__estimator__n_estimators=40, clf__estimator__n_jobs=-1, tfidf__use_idf=False, vect__min_df=5, score=0.9310768656969449, total=  31.6s\n",
      "[CV] clf__estimator__max_depth=10, clf__estimator__n_estimators=40, clf__estimator__n_jobs=-1, tfidf__use_idf=False, vect__min_df=5 \n"
     ]
    },
    {
     "name": "stderr",
     "output_type": "stream",
     "text": [
      "[Parallel(n_jobs=-1)]: Done  46 out of  46 | elapsed: 34.6min remaining:    0.0s\n"
     ]
    },
    {
     "name": "stdout",
     "output_type": "stream",
     "text": [
      "[CV]  clf__estimator__max_depth=10, clf__estimator__n_estimators=40, clf__estimator__n_jobs=-1, tfidf__use_idf=False, vect__min_df=5, score=0.9311955379242531, total=  31.8s\n",
      "[CV] clf__estimator__max_depth=10, clf__estimator__n_estimators=40, clf__estimator__n_jobs=-1, tfidf__use_idf=False, vect__min_df=5 \n"
     ]
    },
    {
     "name": "stderr",
     "output_type": "stream",
     "text": [
      "[Parallel(n_jobs=-1)]: Done  47 out of  47 | elapsed: 35.3min remaining:    0.0s\n"
     ]
    },
    {
     "name": "stdout",
     "output_type": "stream",
     "text": [
      "[CV]  clf__estimator__max_depth=10, clf__estimator__n_estimators=40, clf__estimator__n_jobs=-1, tfidf__use_idf=False, vect__min_df=5, score=0.9304623130912419, total=  31.5s\n"
     ]
    },
    {
     "name": "stderr",
     "output_type": "stream",
     "text": [
      "[Parallel(n_jobs=-1)]: Done  48 out of  48 | elapsed: 36.1min finished\n"
     ]
    }
   ],
   "source": [
    "# Apply grid search\n",
    "parameters = {'vect__min_df': [1, 5],\n",
    "              'tfidf__use_idf':[True, False],\n",
    "              'clf__estimator__n_estimators':[30, 40],\n",
    "              'clf__estimator__max_depth': [5, 10],\n",
    "              'clf__estimator__n_jobs': [-1]}\n",
    "\n",
    "scorer = make_scorer(define_mean_f1_score)\n",
    "cv = GridSearchCV(pipeline, param_grid = parameters, scoring = scorer, n_jobs=-1, verbose = 48)\n",
    "\n",
    "# Find best parameters\n",
    "np.random.seed(777)\n",
    "model_tuned = cv.fit(X_train, y_train)"
   ]
  },
  {
   "cell_type": "code",
   "execution_count": 26,
   "metadata": {},
   "outputs": [
    {
     "data": {
      "text/plain": [
       "{'mean_fit_time': array([ 18.70833325,  19.11273869,  18.69748163,  18.96236173,\n",
       "         20.14776095,  20.60505168,  20.09264199,  20.51008026,\n",
       "         20.72041702,  21.30041512,  20.55255739,  21.4098165 ,\n",
       "         24.65722386,  23.72671127,  22.70756364,  23.4592363 ]),\n",
       " 'std_fit_time': array([ 0.05383641,  0.03279981,  0.0257381 ,  0.05521193,  0.07996026,\n",
       "         0.06964401,  0.03995081,  0.08683638,  0.05736445,  0.07069808,\n",
       "         0.00314361,  0.54278083,  0.45929885,  0.11693276,  0.06654176,\n",
       "         0.11676999]),\n",
       " 'mean_score_time': array([  7.91887975,   7.80269472,   7.95736233,   7.78974342,\n",
       "          8.32372761,   7.9629395 ,   8.23606928,   7.98725828,\n",
       "          7.93791548,   7.88548303,   8.00630569,  10.5992469 ,\n",
       "          8.66427644,   8.13828786,   8.23225069,   8.15559864]),\n",
       " 'std_score_time': array([ 0.00904158,  0.01449524,  0.0352506 ,  0.03427841,  0.17685826,\n",
       "         0.00747904,  0.06967702,  0.03350936,  0.02350144,  0.03433817,\n",
       "         0.04968413,  3.78720548,  0.25277012,  0.01164609,  0.02848522,\n",
       "         0.02691136]),\n",
       " 'param_clf__estimator__max_depth': masked_array(data = [5 5 5 5 5 5 5 5 10 10 10 10 10 10 10 10],\n",
       "              mask = [False False False False False False False False False False False False\n",
       "  False False False False],\n",
       "        fill_value = ?),\n",
       " 'param_clf__estimator__n_estimators': masked_array(data = [30 30 30 30 40 40 40 40 30 30 30 30 40 40 40 40],\n",
       "              mask = [False False False False False False False False False False False False\n",
       "  False False False False],\n",
       "        fill_value = ?),\n",
       " 'param_clf__estimator__n_jobs': masked_array(data = [-1 -1 -1 -1 -1 -1 -1 -1 -1 -1 -1 -1 -1 -1 -1 -1],\n",
       "              mask = [False False False False False False False False False False False False\n",
       "  False False False False],\n",
       "        fill_value = ?),\n",
       " 'param_tfidf__use_idf': masked_array(data = [True True False False True True False False True True False False True\n",
       "  True False False],\n",
       "              mask = [False False False False False False False False False False False False\n",
       "  False False False False],\n",
       "        fill_value = ?),\n",
       " 'param_vect__min_df': masked_array(data = [1 5 1 5 1 5 1 5 1 5 1 5 1 5 1 5],\n",
       "              mask = [False False False False False False False False False False False False\n",
       "  False False False False],\n",
       "        fill_value = ?),\n",
       " 'params': [{'clf__estimator__max_depth': 5,\n",
       "   'clf__estimator__n_estimators': 30,\n",
       "   'clf__estimator__n_jobs': -1,\n",
       "   'tfidf__use_idf': True,\n",
       "   'vect__min_df': 1},\n",
       "  {'clf__estimator__max_depth': 5,\n",
       "   'clf__estimator__n_estimators': 30,\n",
       "   'clf__estimator__n_jobs': -1,\n",
       "   'tfidf__use_idf': True,\n",
       "   'vect__min_df': 5},\n",
       "  {'clf__estimator__max_depth': 5,\n",
       "   'clf__estimator__n_estimators': 30,\n",
       "   'clf__estimator__n_jobs': -1,\n",
       "   'tfidf__use_idf': False,\n",
       "   'vect__min_df': 1},\n",
       "  {'clf__estimator__max_depth': 5,\n",
       "   'clf__estimator__n_estimators': 30,\n",
       "   'clf__estimator__n_jobs': -1,\n",
       "   'tfidf__use_idf': False,\n",
       "   'vect__min_df': 5},\n",
       "  {'clf__estimator__max_depth': 5,\n",
       "   'clf__estimator__n_estimators': 40,\n",
       "   'clf__estimator__n_jobs': -1,\n",
       "   'tfidf__use_idf': True,\n",
       "   'vect__min_df': 1},\n",
       "  {'clf__estimator__max_depth': 5,\n",
       "   'clf__estimator__n_estimators': 40,\n",
       "   'clf__estimator__n_jobs': -1,\n",
       "   'tfidf__use_idf': True,\n",
       "   'vect__min_df': 5},\n",
       "  {'clf__estimator__max_depth': 5,\n",
       "   'clf__estimator__n_estimators': 40,\n",
       "   'clf__estimator__n_jobs': -1,\n",
       "   'tfidf__use_idf': False,\n",
       "   'vect__min_df': 1},\n",
       "  {'clf__estimator__max_depth': 5,\n",
       "   'clf__estimator__n_estimators': 40,\n",
       "   'clf__estimator__n_jobs': -1,\n",
       "   'tfidf__use_idf': False,\n",
       "   'vect__min_df': 5},\n",
       "  {'clf__estimator__max_depth': 10,\n",
       "   'clf__estimator__n_estimators': 30,\n",
       "   'clf__estimator__n_jobs': -1,\n",
       "   'tfidf__use_idf': True,\n",
       "   'vect__min_df': 1},\n",
       "  {'clf__estimator__max_depth': 10,\n",
       "   'clf__estimator__n_estimators': 30,\n",
       "   'clf__estimator__n_jobs': -1,\n",
       "   'tfidf__use_idf': True,\n",
       "   'vect__min_df': 5},\n",
       "  {'clf__estimator__max_depth': 10,\n",
       "   'clf__estimator__n_estimators': 30,\n",
       "   'clf__estimator__n_jobs': -1,\n",
       "   'tfidf__use_idf': False,\n",
       "   'vect__min_df': 1},\n",
       "  {'clf__estimator__max_depth': 10,\n",
       "   'clf__estimator__n_estimators': 30,\n",
       "   'clf__estimator__n_jobs': -1,\n",
       "   'tfidf__use_idf': False,\n",
       "   'vect__min_df': 5},\n",
       "  {'clf__estimator__max_depth': 10,\n",
       "   'clf__estimator__n_estimators': 40,\n",
       "   'clf__estimator__n_jobs': -1,\n",
       "   'tfidf__use_idf': True,\n",
       "   'vect__min_df': 1},\n",
       "  {'clf__estimator__max_depth': 10,\n",
       "   'clf__estimator__n_estimators': 40,\n",
       "   'clf__estimator__n_jobs': -1,\n",
       "   'tfidf__use_idf': True,\n",
       "   'vect__min_df': 5},\n",
       "  {'clf__estimator__max_depth': 10,\n",
       "   'clf__estimator__n_estimators': 40,\n",
       "   'clf__estimator__n_jobs': -1,\n",
       "   'tfidf__use_idf': False,\n",
       "   'vect__min_df': 1},\n",
       "  {'clf__estimator__max_depth': 10,\n",
       "   'clf__estimator__n_estimators': 40,\n",
       "   'clf__estimator__n_jobs': -1,\n",
       "   'tfidf__use_idf': False,\n",
       "   'vect__min_df': 5}],\n",
       " 'split0_test_score': array([ 0.92791086,  0.92890686,  0.92788543,  0.92844065,  0.92794053,\n",
       "         0.92857627,  0.92789815,  0.92868223,  0.92939426,  0.93087343,\n",
       "         0.92890262,  0.93075899,  0.9287119 ,  0.93110653,  0.92933069,\n",
       "         0.93107687]),\n",
       " 'split1_test_score': array([ 0.92817787,  0.92872885,  0.92794477,  0.92850846,  0.92796172,\n",
       "         0.92853813,  0.92790662,  0.92877971,  0.92872461,  0.93111925,\n",
       "         0.92915268,  0.93172109,  0.92928407,  0.93119978,  0.92891957,\n",
       "         0.93119554]),\n",
       " 'split2_test_score': array([ 0.9270081 ,  0.92762689,  0.92713949,  0.9278049 ,  0.92696572,\n",
       "         0.92792358,  0.92700387,  0.92786   ,  0.92853813,  0.93069118,\n",
       "         0.92798291,  0.93001305,  0.92784729,  0.93009358,  0.92821178,\n",
       "         0.93046231]),\n",
       " 'mean_test_score': array([ 0.92769895,  0.92842087,  0.92765656,  0.92825134,  0.92762266,\n",
       "         0.92834599,  0.92760288,  0.92844065,  0.92888567,  0.93089462,\n",
       "         0.9286794 ,  0.93083104,  0.92861442,  0.93079996,  0.92882068,\n",
       "         0.93091157]),\n",
       " 'std_test_score': array([ 0.00050051,  0.00056611,  0.00036643,  0.00031689,  0.0004646 ,\n",
       "         0.0002991 ,  0.00042358,  0.0004125 ,  0.0003676 ,  0.0001754 ,\n",
       "         0.00050296,  0.00069916,  0.0005906 ,  0.00050094,  0.00046211,\n",
       "         0.00032135]),\n",
       " 'rank_test_score': array([13, 10, 14, 12, 15, 11, 16,  9,  5,  2,  7,  3,  8,  4,  6,  1], dtype=int32),\n",
       " 'split0_train_score': array([ 0.92758663,  0.92872461,  0.92751458,  0.92821814,  0.92757603,\n",
       "         0.92826052,  0.92754001,  0.92852117,  0.9296083 ,  0.93185035,\n",
       "         0.92902553,  0.9315452 ,  0.92876276,  0.9317444 ,  0.92939638,\n",
       "         0.93179102]),\n",
       " 'split1_train_score': array([ 0.92794477,  0.92854025,  0.92772649,  0.92843429,  0.92767352,\n",
       "         0.92840886,  0.92768835,  0.9286017 ,  0.92886024,  0.93176983,\n",
       "         0.92931374,  0.93246279,  0.92951082,  0.93195207,  0.92915904,\n",
       "         0.93200081]),\n",
       " 'split2_train_score': array([ 0.92789391,  0.92862925,  0.92804649,  0.92879243,  0.92789179,\n",
       "         0.9288666 ,  0.92793841,  0.92887295,  0.92983293,  0.93276583,\n",
       "         0.92945572,  0.93172321,  0.92917387,  0.93196691,  0.92961254,\n",
       "         0.93257722]),\n",
       " 'mean_train_score': array([ 0.92780843,  0.92863137,  0.92776252,  0.92848162,  0.92771378,\n",
       "         0.92851199,  0.92772226,  0.92866528,  0.92943382,  0.93212867,\n",
       "         0.929265  ,  0.9319104 ,  0.92914915,  0.93188779,  0.92938932,\n",
       "         0.93212302]),\n",
       " 'std_train_score': array([  1.58207560e-04,   7.52819299e-05,   2.18638732e-04,\n",
       "          2.36828824e-04,   1.32012251e-04,   2.57952403e-04,\n",
       "          1.64403558e-04,   1.50484302e-04,   4.15822250e-04,\n",
       "          4.51735765e-04,   1.78972799e-04,   3.97302214e-04,\n",
       "          3.05893717e-04,   1.01576695e-04,   1.85206921e-04,\n",
       "          3.32394722e-04])}"
      ]
     },
     "execution_count": 26,
     "metadata": {},
     "output_type": "execute_result"
    }
   ],
   "source": [
    "# Grid search results\n",
    "model_tuned.cv_results_"
   ]
  },
  {
   "cell_type": "code",
   "execution_count": 27,
   "metadata": {},
   "outputs": [
    {
     "data": {
      "text/plain": [
       "0.93091157223748"
      ]
     },
     "execution_count": 27,
     "metadata": {},
     "output_type": "execute_result"
    }
   ],
   "source": [
    "# Mean score for the best model\n",
    "np.max(model_tuned.cv_results_['mean_test_score'])"
   ]
  },
  {
   "cell_type": "code",
   "execution_count": 28,
   "metadata": {},
   "outputs": [
    {
     "data": {
      "text/plain": [
       "{'clf__estimator__max_depth': 10,\n",
       " 'clf__estimator__n_estimators': 40,\n",
       " 'clf__estimator__n_jobs': -1,\n",
       " 'tfidf__use_idf': False,\n",
       " 'vect__min_df': 5}"
      ]
     },
     "execution_count": 28,
     "metadata": {},
     "output_type": "execute_result"
    }
   ],
   "source": [
    "# Parameters for the best model\n",
    "model_tuned.best_params_"
   ]
  },
  {
   "cell_type": "markdown",
   "metadata": {},
   "source": [
    "### 7. Test your model\n",
    "Show the accuracy, precision, and recall of the tuned model.  \n",
    "\n",
    "Since this project focuses on code quality, process, and  pipelines, there is no minimum performance metric needed to pass. However, make sure to fine tune your models for accuracy, precision and recall to make your project stand out - especially for your portfolio!"
   ]
  },
  {
   "cell_type": "code",
   "execution_count": 29,
   "metadata": {},
   "outputs": [],
   "source": [
    "# Evaluation metrics for test set\n",
    "tuned_pred_test = model_tuned.predict(X_test)\n",
    "\n",
    "eval_metrics_tuned = eval_metrics(np.array(y_test), tuned_pred_test, col_names)"
   ]
  },
  {
   "cell_type": "code",
   "execution_count": 30,
   "metadata": {},
   "outputs": [
    {
     "data": {
      "text/html": [
       "<div>\n",
       "<style scoped>\n",
       "    .dataframe tbody tr th:only-of-type {\n",
       "        vertical-align: middle;\n",
       "    }\n",
       "\n",
       "    .dataframe tbody tr th {\n",
       "        vertical-align: top;\n",
       "    }\n",
       "\n",
       "    .dataframe thead th {\n",
       "        text-align: right;\n",
       "    }\n",
       "</style>\n",
       "<table border=\"1\" class=\"dataframe\">\n",
       "  <thead>\n",
       "    <tr style=\"text-align: right;\">\n",
       "      <th></th>\n",
       "      <th>Accuracy</th>\n",
       "      <th>Precision</th>\n",
       "      <th>Recall</th>\n",
       "      <th>F1</th>\n",
       "    </tr>\n",
       "  </thead>\n",
       "  <tbody>\n",
       "    <tr>\n",
       "      <th>related</th>\n",
       "      <td>0.764876</td>\n",
       "      <td>0.764876</td>\n",
       "      <td>0.764876</td>\n",
       "      <td>0.764876</td>\n",
       "    </tr>\n",
       "    <tr>\n",
       "      <th>request</th>\n",
       "      <td>0.822246</td>\n",
       "      <td>0.822246</td>\n",
       "      <td>0.822246</td>\n",
       "      <td>0.822246</td>\n",
       "    </tr>\n",
       "    <tr>\n",
       "      <th>offer</th>\n",
       "      <td>0.994660</td>\n",
       "      <td>0.994660</td>\n",
       "      <td>0.994660</td>\n",
       "      <td>0.994660</td>\n",
       "    </tr>\n",
       "    <tr>\n",
       "      <th>aid_related</th>\n",
       "      <td>0.649832</td>\n",
       "      <td>0.649832</td>\n",
       "      <td>0.649832</td>\n",
       "      <td>0.649832</td>\n",
       "    </tr>\n",
       "    <tr>\n",
       "      <th>medical_help</th>\n",
       "      <td>0.919744</td>\n",
       "      <td>0.919744</td>\n",
       "      <td>0.919744</td>\n",
       "      <td>0.919744</td>\n",
       "    </tr>\n",
       "    <tr>\n",
       "      <th>medical_products</th>\n",
       "      <td>0.946750</td>\n",
       "      <td>0.946750</td>\n",
       "      <td>0.946750</td>\n",
       "      <td>0.946750</td>\n",
       "    </tr>\n",
       "    <tr>\n",
       "      <th>search_and_rescue</th>\n",
       "      <td>0.970400</td>\n",
       "      <td>0.970400</td>\n",
       "      <td>0.970400</td>\n",
       "      <td>0.970400</td>\n",
       "    </tr>\n",
       "    <tr>\n",
       "      <th>security</th>\n",
       "      <td>0.981538</td>\n",
       "      <td>0.981538</td>\n",
       "      <td>0.981538</td>\n",
       "      <td>0.981538</td>\n",
       "    </tr>\n",
       "    <tr>\n",
       "      <th>military</th>\n",
       "      <td>0.966738</td>\n",
       "      <td>0.966738</td>\n",
       "      <td>0.966738</td>\n",
       "      <td>0.966738</td>\n",
       "    </tr>\n",
       "    <tr>\n",
       "      <th>child_alone</th>\n",
       "      <td>1.000000</td>\n",
       "      <td>1.000000</td>\n",
       "      <td>1.000000</td>\n",
       "      <td>1.000000</td>\n",
       "    </tr>\n",
       "    <tr>\n",
       "      <th>water</th>\n",
       "      <td>0.932865</td>\n",
       "      <td>0.932865</td>\n",
       "      <td>0.932865</td>\n",
       "      <td>0.932865</td>\n",
       "    </tr>\n",
       "    <tr>\n",
       "      <th>food</th>\n",
       "      <td>0.885871</td>\n",
       "      <td>0.885871</td>\n",
       "      <td>0.885871</td>\n",
       "      <td>0.885871</td>\n",
       "    </tr>\n",
       "    <tr>\n",
       "      <th>shelter</th>\n",
       "      <td>0.902960</td>\n",
       "      <td>0.902960</td>\n",
       "      <td>0.902960</td>\n",
       "      <td>0.902960</td>\n",
       "    </tr>\n",
       "    <tr>\n",
       "      <th>clothing</th>\n",
       "      <td>0.984132</td>\n",
       "      <td>0.984132</td>\n",
       "      <td>0.984132</td>\n",
       "      <td>0.984132</td>\n",
       "    </tr>\n",
       "    <tr>\n",
       "      <th>money</th>\n",
       "      <td>0.979249</td>\n",
       "      <td>0.979249</td>\n",
       "      <td>0.979249</td>\n",
       "      <td>0.979249</td>\n",
       "    </tr>\n",
       "    <tr>\n",
       "      <th>missing_people</th>\n",
       "      <td>0.985963</td>\n",
       "      <td>0.985963</td>\n",
       "      <td>0.985963</td>\n",
       "      <td>0.985963</td>\n",
       "    </tr>\n",
       "    <tr>\n",
       "      <th>refugees</th>\n",
       "      <td>0.966128</td>\n",
       "      <td>0.966128</td>\n",
       "      <td>0.966128</td>\n",
       "      <td>0.966128</td>\n",
       "    </tr>\n",
       "    <tr>\n",
       "      <th>death</th>\n",
       "      <td>0.948428</td>\n",
       "      <td>0.948428</td>\n",
       "      <td>0.948428</td>\n",
       "      <td>0.948428</td>\n",
       "    </tr>\n",
       "    <tr>\n",
       "      <th>other_aid</th>\n",
       "      <td>0.862374</td>\n",
       "      <td>0.862374</td>\n",
       "      <td>0.862374</td>\n",
       "      <td>0.862374</td>\n",
       "    </tr>\n",
       "    <tr>\n",
       "      <th>infrastructure_related</th>\n",
       "      <td>0.932103</td>\n",
       "      <td>0.932103</td>\n",
       "      <td>0.932103</td>\n",
       "      <td>0.932103</td>\n",
       "    </tr>\n",
       "    <tr>\n",
       "      <th>transport</th>\n",
       "      <td>0.951633</td>\n",
       "      <td>0.951633</td>\n",
       "      <td>0.951633</td>\n",
       "      <td>0.951633</td>\n",
       "    </tr>\n",
       "    <tr>\n",
       "      <th>buildings</th>\n",
       "      <td>0.949954</td>\n",
       "      <td>0.949954</td>\n",
       "      <td>0.949954</td>\n",
       "      <td>0.949954</td>\n",
       "    </tr>\n",
       "    <tr>\n",
       "      <th>electricity</th>\n",
       "      <td>0.980623</td>\n",
       "      <td>0.980623</td>\n",
       "      <td>0.980623</td>\n",
       "      <td>0.980623</td>\n",
       "    </tr>\n",
       "    <tr>\n",
       "      <th>tools</th>\n",
       "      <td>0.993439</td>\n",
       "      <td>0.993439</td>\n",
       "      <td>0.993439</td>\n",
       "      <td>0.993439</td>\n",
       "    </tr>\n",
       "    <tr>\n",
       "      <th>hospitals</th>\n",
       "      <td>0.987794</td>\n",
       "      <td>0.987794</td>\n",
       "      <td>0.987794</td>\n",
       "      <td>0.987794</td>\n",
       "    </tr>\n",
       "    <tr>\n",
       "      <th>shops</th>\n",
       "      <td>0.996033</td>\n",
       "      <td>0.996033</td>\n",
       "      <td>0.996033</td>\n",
       "      <td>0.996033</td>\n",
       "    </tr>\n",
       "    <tr>\n",
       "      <th>aid_centers</th>\n",
       "      <td>0.987946</td>\n",
       "      <td>0.987946</td>\n",
       "      <td>0.987946</td>\n",
       "      <td>0.987946</td>\n",
       "    </tr>\n",
       "    <tr>\n",
       "      <th>other_infrastructure</th>\n",
       "      <td>0.953158</td>\n",
       "      <td>0.953158</td>\n",
       "      <td>0.953158</td>\n",
       "      <td>0.953158</td>\n",
       "    </tr>\n",
       "    <tr>\n",
       "      <th>weather_related</th>\n",
       "      <td>0.729783</td>\n",
       "      <td>0.729783</td>\n",
       "      <td>0.729783</td>\n",
       "      <td>0.729783</td>\n",
       "    </tr>\n",
       "    <tr>\n",
       "      <th>floods</th>\n",
       "      <td>0.913030</td>\n",
       "      <td>0.913030</td>\n",
       "      <td>0.913030</td>\n",
       "      <td>0.913030</td>\n",
       "    </tr>\n",
       "    <tr>\n",
       "      <th>storm</th>\n",
       "      <td>0.903570</td>\n",
       "      <td>0.903570</td>\n",
       "      <td>0.903570</td>\n",
       "      <td>0.903570</td>\n",
       "    </tr>\n",
       "    <tr>\n",
       "      <th>fire</th>\n",
       "      <td>0.986573</td>\n",
       "      <td>0.986573</td>\n",
       "      <td>0.986573</td>\n",
       "      <td>0.986573</td>\n",
       "    </tr>\n",
       "    <tr>\n",
       "      <th>earthquake</th>\n",
       "      <td>0.914861</td>\n",
       "      <td>0.914861</td>\n",
       "      <td>0.914861</td>\n",
       "      <td>0.914861</td>\n",
       "    </tr>\n",
       "    <tr>\n",
       "      <th>cold</th>\n",
       "      <td>0.981996</td>\n",
       "      <td>0.981996</td>\n",
       "      <td>0.981996</td>\n",
       "      <td>0.981996</td>\n",
       "    </tr>\n",
       "    <tr>\n",
       "      <th>other_weather</th>\n",
       "      <td>0.942630</td>\n",
       "      <td>0.942630</td>\n",
       "      <td>0.942630</td>\n",
       "      <td>0.942630</td>\n",
       "    </tr>\n",
       "    <tr>\n",
       "      <th>direct_report</th>\n",
       "      <td>0.798901</td>\n",
       "      <td>0.798901</td>\n",
       "      <td>0.798901</td>\n",
       "      <td>0.798901</td>\n",
       "    </tr>\n",
       "  </tbody>\n",
       "</table>\n",
       "</div>"
      ],
      "text/plain": [
       "                        Accuracy  Precision    Recall        F1\n",
       "related                 0.764876   0.764876  0.764876  0.764876\n",
       "request                 0.822246   0.822246  0.822246  0.822246\n",
       "offer                   0.994660   0.994660  0.994660  0.994660\n",
       "aid_related             0.649832   0.649832  0.649832  0.649832\n",
       "medical_help            0.919744   0.919744  0.919744  0.919744\n",
       "medical_products        0.946750   0.946750  0.946750  0.946750\n",
       "search_and_rescue       0.970400   0.970400  0.970400  0.970400\n",
       "security                0.981538   0.981538  0.981538  0.981538\n",
       "military                0.966738   0.966738  0.966738  0.966738\n",
       "child_alone             1.000000   1.000000  1.000000  1.000000\n",
       "water                   0.932865   0.932865  0.932865  0.932865\n",
       "food                    0.885871   0.885871  0.885871  0.885871\n",
       "shelter                 0.902960   0.902960  0.902960  0.902960\n",
       "clothing                0.984132   0.984132  0.984132  0.984132\n",
       "money                   0.979249   0.979249  0.979249  0.979249\n",
       "missing_people          0.985963   0.985963  0.985963  0.985963\n",
       "refugees                0.966128   0.966128  0.966128  0.966128\n",
       "death                   0.948428   0.948428  0.948428  0.948428\n",
       "other_aid               0.862374   0.862374  0.862374  0.862374\n",
       "infrastructure_related  0.932103   0.932103  0.932103  0.932103\n",
       "transport               0.951633   0.951633  0.951633  0.951633\n",
       "buildings               0.949954   0.949954  0.949954  0.949954\n",
       "electricity             0.980623   0.980623  0.980623  0.980623\n",
       "tools                   0.993439   0.993439  0.993439  0.993439\n",
       "hospitals               0.987794   0.987794  0.987794  0.987794\n",
       "shops                   0.996033   0.996033  0.996033  0.996033\n",
       "aid_centers             0.987946   0.987946  0.987946  0.987946\n",
       "other_infrastructure    0.953158   0.953158  0.953158  0.953158\n",
       "weather_related         0.729783   0.729783  0.729783  0.729783\n",
       "floods                  0.913030   0.913030  0.913030  0.913030\n",
       "storm                   0.903570   0.903570  0.903570  0.903570\n",
       "fire                    0.986573   0.986573  0.986573  0.986573\n",
       "earthquake              0.914861   0.914861  0.914861  0.914861\n",
       "cold                    0.981996   0.981996  0.981996  0.981996\n",
       "other_weather           0.942630   0.942630  0.942630  0.942630\n",
       "direct_report           0.798901   0.798901  0.798901  0.798901"
      ]
     },
     "execution_count": 30,
     "metadata": {},
     "output_type": "execute_result"
    }
   ],
   "source": [
    "eval_metrics_tuned"
   ]
  },
  {
   "cell_type": "code",
   "execution_count": 31,
   "metadata": {},
   "outputs": [
    {
     "data": {
      "text/html": [
       "<div>\n",
       "<style scoped>\n",
       "    .dataframe tbody tr th:only-of-type {\n",
       "        vertical-align: middle;\n",
       "    }\n",
       "\n",
       "    .dataframe tbody tr th {\n",
       "        vertical-align: top;\n",
       "    }\n",
       "\n",
       "    .dataframe thead th {\n",
       "        text-align: right;\n",
       "    }\n",
       "</style>\n",
       "<table border=\"1\" class=\"dataframe\">\n",
       "  <thead>\n",
       "    <tr style=\"text-align: right;\">\n",
       "      <th></th>\n",
       "      <th>Accuracy</th>\n",
       "      <th>Precision</th>\n",
       "      <th>Recall</th>\n",
       "      <th>F1</th>\n",
       "    </tr>\n",
       "  </thead>\n",
       "  <tbody>\n",
       "    <tr>\n",
       "      <th>count</th>\n",
       "      <td>36.000000</td>\n",
       "      <td>36.000000</td>\n",
       "      <td>36.000000</td>\n",
       "      <td>36.000000</td>\n",
       "    </tr>\n",
       "    <tr>\n",
       "      <th>mean</th>\n",
       "      <td>0.926911</td>\n",
       "      <td>0.926911</td>\n",
       "      <td>0.926911</td>\n",
       "      <td>0.926911</td>\n",
       "    </tr>\n",
       "    <tr>\n",
       "      <th>std</th>\n",
       "      <td>0.081614</td>\n",
       "      <td>0.081614</td>\n",
       "      <td>0.081614</td>\n",
       "      <td>0.081614</td>\n",
       "    </tr>\n",
       "    <tr>\n",
       "      <th>min</th>\n",
       "      <td>0.649832</td>\n",
       "      <td>0.649832</td>\n",
       "      <td>0.649832</td>\n",
       "      <td>0.649832</td>\n",
       "    </tr>\n",
       "    <tr>\n",
       "      <th>25%</th>\n",
       "      <td>0.910665</td>\n",
       "      <td>0.910665</td>\n",
       "      <td>0.910665</td>\n",
       "      <td>0.910665</td>\n",
       "    </tr>\n",
       "    <tr>\n",
       "      <th>50%</th>\n",
       "      <td>0.950793</td>\n",
       "      <td>0.950793</td>\n",
       "      <td>0.950793</td>\n",
       "      <td>0.950793</td>\n",
       "    </tr>\n",
       "    <tr>\n",
       "      <th>75%</th>\n",
       "      <td>0.982530</td>\n",
       "      <td>0.982530</td>\n",
       "      <td>0.982530</td>\n",
       "      <td>0.982530</td>\n",
       "    </tr>\n",
       "    <tr>\n",
       "      <th>max</th>\n",
       "      <td>1.000000</td>\n",
       "      <td>1.000000</td>\n",
       "      <td>1.000000</td>\n",
       "      <td>1.000000</td>\n",
       "    </tr>\n",
       "  </tbody>\n",
       "</table>\n",
       "</div>"
      ],
      "text/plain": [
       "        Accuracy  Precision     Recall         F1\n",
       "count  36.000000  36.000000  36.000000  36.000000\n",
       "mean    0.926911   0.926911   0.926911   0.926911\n",
       "std     0.081614   0.081614   0.081614   0.081614\n",
       "min     0.649832   0.649832   0.649832   0.649832\n",
       "25%     0.910665   0.910665   0.910665   0.910665\n",
       "50%     0.950793   0.950793   0.950793   0.950793\n",
       "75%     0.982530   0.982530   0.982530   0.982530\n",
       "max     1.000000   1.000000   1.000000   1.000000"
      ]
     },
     "execution_count": 31,
     "metadata": {},
     "output_type": "execute_result"
    }
   ],
   "source": [
    "eval_metrics_tuned.describe()"
   ]
  },
  {
   "cell_type": "code",
   "execution_count": 32,
   "metadata": {},
   "outputs": [
    {
     "name": "stdout",
     "output_type": "stream",
     "text": [
      "F1 score mean:  0.92691062286\n"
     ]
    }
   ],
   "source": [
    "# Print mean f1 score\n",
    "print(\"F1 score mean: \", eval_metrics_tuned['F1'].mean())"
   ]
  },
  {
   "cell_type": "markdown",
   "metadata": {},
   "source": [
    "We got lower mean f1 score than it was before without model tuning."
   ]
  },
  {
   "cell_type": "markdown",
   "metadata": {},
   "source": [
    "### 8. Try improving your model further. Here are a few ideas:\n",
    "* try other machine learning algorithms\n",
    "* add other features besides the TF-IDF"
   ]
  },
  {
   "cell_type": "code",
   "execution_count": 53,
   "metadata": {},
   "outputs": [
    {
     "name": "stdout",
     "output_type": "stream",
     "text": [
      "CPU times: user 6min 2s, sys: 800 ms, total: 6min 3s\n",
      "Wall time: 6min 5s\n"
     ]
    }
   ],
   "source": [
    "%%time\n",
    "# Testing a pure decision tree classifier\n",
    "moc = MultiOutputClassifier(DecisionTreeClassifier())\n",
    "\n",
    "pipeline_moc = Pipeline([\n",
    "    ('vect', CountVectorizer(tokenizer=tokenize)),\n",
    "    ('tfidf', TfidfTransformer()),\n",
    "    ('clf', moc)\n",
    "    ])\n",
    "\n",
    "X_train, X_test, y_train, y_test = train_test_split(X, y, random_state = 777)\n",
    "pipeline_moc.fit(X_train.as_matrix(), y_train.as_matrix())\n",
    "y_pred_moc = pipeline_moc.predict(X_test)"
   ]
  },
  {
   "cell_type": "code",
   "execution_count": 54,
   "metadata": {},
   "outputs": [],
   "source": [
    "eval_metrics_moc = eval_metrics(np.array(y_test), y_pred_moc, col_names)"
   ]
  },
  {
   "cell_type": "code",
   "execution_count": 55,
   "metadata": {},
   "outputs": [
    {
     "data": {
      "text/html": [
       "<div>\n",
       "<style scoped>\n",
       "    .dataframe tbody tr th:only-of-type {\n",
       "        vertical-align: middle;\n",
       "    }\n",
       "\n",
       "    .dataframe tbody tr th {\n",
       "        vertical-align: top;\n",
       "    }\n",
       "\n",
       "    .dataframe thead th {\n",
       "        text-align: right;\n",
       "    }\n",
       "</style>\n",
       "<table border=\"1\" class=\"dataframe\">\n",
       "  <thead>\n",
       "    <tr style=\"text-align: right;\">\n",
       "      <th></th>\n",
       "      <th>Accuracy</th>\n",
       "      <th>Precision</th>\n",
       "      <th>Recall</th>\n",
       "      <th>F1</th>\n",
       "    </tr>\n",
       "  </thead>\n",
       "  <tbody>\n",
       "    <tr>\n",
       "      <th>related</th>\n",
       "      <td>0.777846</td>\n",
       "      <td>0.777846</td>\n",
       "      <td>0.777846</td>\n",
       "      <td>0.777846</td>\n",
       "    </tr>\n",
       "    <tr>\n",
       "      <th>request</th>\n",
       "      <td>0.852609</td>\n",
       "      <td>0.852609</td>\n",
       "      <td>0.852609</td>\n",
       "      <td>0.852609</td>\n",
       "    </tr>\n",
       "    <tr>\n",
       "      <th>offer</th>\n",
       "      <td>0.991303</td>\n",
       "      <td>0.991303</td>\n",
       "      <td>0.991303</td>\n",
       "      <td>0.991303</td>\n",
       "    </tr>\n",
       "    <tr>\n",
       "      <th>aid_related</th>\n",
       "      <td>0.709643</td>\n",
       "      <td>0.709643</td>\n",
       "      <td>0.709643</td>\n",
       "      <td>0.709643</td>\n",
       "    </tr>\n",
       "    <tr>\n",
       "      <th>medical_help</th>\n",
       "      <td>0.906164</td>\n",
       "      <td>0.906164</td>\n",
       "      <td>0.906164</td>\n",
       "      <td>0.906164</td>\n",
       "    </tr>\n",
       "    <tr>\n",
       "      <th>medical_products</th>\n",
       "      <td>0.940037</td>\n",
       "      <td>0.940037</td>\n",
       "      <td>0.940037</td>\n",
       "      <td>0.940037</td>\n",
       "    </tr>\n",
       "    <tr>\n",
       "      <th>search_and_rescue</th>\n",
       "      <td>0.962313</td>\n",
       "      <td>0.962313</td>\n",
       "      <td>0.962313</td>\n",
       "      <td>0.962313</td>\n",
       "    </tr>\n",
       "    <tr>\n",
       "      <th>security</th>\n",
       "      <td>0.970400</td>\n",
       "      <td>0.970400</td>\n",
       "      <td>0.970400</td>\n",
       "      <td>0.970400</td>\n",
       "    </tr>\n",
       "    <tr>\n",
       "      <th>military</th>\n",
       "      <td>0.963229</td>\n",
       "      <td>0.963229</td>\n",
       "      <td>0.963229</td>\n",
       "      <td>0.963229</td>\n",
       "    </tr>\n",
       "    <tr>\n",
       "      <th>child_alone</th>\n",
       "      <td>1.000000</td>\n",
       "      <td>1.000000</td>\n",
       "      <td>1.000000</td>\n",
       "      <td>1.000000</td>\n",
       "    </tr>\n",
       "    <tr>\n",
       "      <th>water</th>\n",
       "      <td>0.953921</td>\n",
       "      <td>0.953921</td>\n",
       "      <td>0.953921</td>\n",
       "      <td>0.953921</td>\n",
       "    </tr>\n",
       "    <tr>\n",
       "      <th>food</th>\n",
       "      <td>0.933476</td>\n",
       "      <td>0.933476</td>\n",
       "      <td>0.933476</td>\n",
       "      <td>0.933476</td>\n",
       "    </tr>\n",
       "    <tr>\n",
       "      <th>shelter</th>\n",
       "      <td>0.927830</td>\n",
       "      <td>0.927830</td>\n",
       "      <td>0.927830</td>\n",
       "      <td>0.927830</td>\n",
       "    </tr>\n",
       "    <tr>\n",
       "      <th>clothing</th>\n",
       "      <td>0.984742</td>\n",
       "      <td>0.984742</td>\n",
       "      <td>0.984742</td>\n",
       "      <td>0.984742</td>\n",
       "    </tr>\n",
       "    <tr>\n",
       "      <th>money</th>\n",
       "      <td>0.972688</td>\n",
       "      <td>0.972688</td>\n",
       "      <td>0.972688</td>\n",
       "      <td>0.972688</td>\n",
       "    </tr>\n",
       "    <tr>\n",
       "      <th>missing_people</th>\n",
       "      <td>0.980775</td>\n",
       "      <td>0.980775</td>\n",
       "      <td>0.980775</td>\n",
       "      <td>0.980775</td>\n",
       "    </tr>\n",
       "    <tr>\n",
       "      <th>refugees</th>\n",
       "      <td>0.955752</td>\n",
       "      <td>0.955752</td>\n",
       "      <td>0.955752</td>\n",
       "      <td>0.955752</td>\n",
       "    </tr>\n",
       "    <tr>\n",
       "      <th>death</th>\n",
       "      <td>0.960635</td>\n",
       "      <td>0.960635</td>\n",
       "      <td>0.960635</td>\n",
       "      <td>0.960635</td>\n",
       "    </tr>\n",
       "    <tr>\n",
       "      <th>other_aid</th>\n",
       "      <td>0.824992</td>\n",
       "      <td>0.824992</td>\n",
       "      <td>0.824992</td>\n",
       "      <td>0.824992</td>\n",
       "    </tr>\n",
       "    <tr>\n",
       "      <th>infrastructure_related</th>\n",
       "      <td>0.901587</td>\n",
       "      <td>0.901587</td>\n",
       "      <td>0.901587</td>\n",
       "      <td>0.901587</td>\n",
       "    </tr>\n",
       "    <tr>\n",
       "      <th>transport</th>\n",
       "      <td>0.938816</td>\n",
       "      <td>0.938816</td>\n",
       "      <td>0.938816</td>\n",
       "      <td>0.938816</td>\n",
       "    </tr>\n",
       "    <tr>\n",
       "      <th>buildings</th>\n",
       "      <td>0.947360</td>\n",
       "      <td>0.947360</td>\n",
       "      <td>0.947360</td>\n",
       "      <td>0.947360</td>\n",
       "    </tr>\n",
       "    <tr>\n",
       "      <th>electricity</th>\n",
       "      <td>0.977266</td>\n",
       "      <td>0.977266</td>\n",
       "      <td>0.977266</td>\n",
       "      <td>0.977266</td>\n",
       "    </tr>\n",
       "    <tr>\n",
       "      <th>tools</th>\n",
       "      <td>0.989930</td>\n",
       "      <td>0.989930</td>\n",
       "      <td>0.989930</td>\n",
       "      <td>0.989930</td>\n",
       "    </tr>\n",
       "    <tr>\n",
       "      <th>hospitals</th>\n",
       "      <td>0.981080</td>\n",
       "      <td>0.981080</td>\n",
       "      <td>0.981080</td>\n",
       "      <td>0.981080</td>\n",
       "    </tr>\n",
       "    <tr>\n",
       "      <th>shops</th>\n",
       "      <td>0.991303</td>\n",
       "      <td>0.991303</td>\n",
       "      <td>0.991303</td>\n",
       "      <td>0.991303</td>\n",
       "    </tr>\n",
       "    <tr>\n",
       "      <th>aid_centers</th>\n",
       "      <td>0.979860</td>\n",
       "      <td>0.979860</td>\n",
       "      <td>0.979860</td>\n",
       "      <td>0.979860</td>\n",
       "    </tr>\n",
       "    <tr>\n",
       "      <th>other_infrastructure</th>\n",
       "      <td>0.933323</td>\n",
       "      <td>0.933323</td>\n",
       "      <td>0.933323</td>\n",
       "      <td>0.933323</td>\n",
       "    </tr>\n",
       "    <tr>\n",
       "      <th>weather_related</th>\n",
       "      <td>0.855966</td>\n",
       "      <td>0.855966</td>\n",
       "      <td>0.855966</td>\n",
       "      <td>0.855966</td>\n",
       "    </tr>\n",
       "    <tr>\n",
       "      <th>floods</th>\n",
       "      <td>0.937138</td>\n",
       "      <td>0.937138</td>\n",
       "      <td>0.937138</td>\n",
       "      <td>0.937138</td>\n",
       "    </tr>\n",
       "    <tr>\n",
       "      <th>storm</th>\n",
       "      <td>0.936680</td>\n",
       "      <td>0.936680</td>\n",
       "      <td>0.936680</td>\n",
       "      <td>0.936680</td>\n",
       "    </tr>\n",
       "    <tr>\n",
       "      <th>fire</th>\n",
       "      <td>0.984895</td>\n",
       "      <td>0.984895</td>\n",
       "      <td>0.984895</td>\n",
       "      <td>0.984895</td>\n",
       "    </tr>\n",
       "    <tr>\n",
       "      <th>earthquake</th>\n",
       "      <td>0.962618</td>\n",
       "      <td>0.962618</td>\n",
       "      <td>0.962618</td>\n",
       "      <td>0.962618</td>\n",
       "    </tr>\n",
       "    <tr>\n",
       "      <th>cold</th>\n",
       "      <td>0.980165</td>\n",
       "      <td>0.980165</td>\n",
       "      <td>0.980165</td>\n",
       "      <td>0.980165</td>\n",
       "    </tr>\n",
       "    <tr>\n",
       "      <th>other_weather</th>\n",
       "      <td>0.923711</td>\n",
       "      <td>0.923711</td>\n",
       "      <td>0.923711</td>\n",
       "      <td>0.923711</td>\n",
       "    </tr>\n",
       "    <tr>\n",
       "      <th>direct_report</th>\n",
       "      <td>0.804547</td>\n",
       "      <td>0.804547</td>\n",
       "      <td>0.804547</td>\n",
       "      <td>0.804547</td>\n",
       "    </tr>\n",
       "  </tbody>\n",
       "</table>\n",
       "</div>"
      ],
      "text/plain": [
       "                        Accuracy  Precision    Recall        F1\n",
       "related                 0.777846   0.777846  0.777846  0.777846\n",
       "request                 0.852609   0.852609  0.852609  0.852609\n",
       "offer                   0.991303   0.991303  0.991303  0.991303\n",
       "aid_related             0.709643   0.709643  0.709643  0.709643\n",
       "medical_help            0.906164   0.906164  0.906164  0.906164\n",
       "medical_products        0.940037   0.940037  0.940037  0.940037\n",
       "search_and_rescue       0.962313   0.962313  0.962313  0.962313\n",
       "security                0.970400   0.970400  0.970400  0.970400\n",
       "military                0.963229   0.963229  0.963229  0.963229\n",
       "child_alone             1.000000   1.000000  1.000000  1.000000\n",
       "water                   0.953921   0.953921  0.953921  0.953921\n",
       "food                    0.933476   0.933476  0.933476  0.933476\n",
       "shelter                 0.927830   0.927830  0.927830  0.927830\n",
       "clothing                0.984742   0.984742  0.984742  0.984742\n",
       "money                   0.972688   0.972688  0.972688  0.972688\n",
       "missing_people          0.980775   0.980775  0.980775  0.980775\n",
       "refugees                0.955752   0.955752  0.955752  0.955752\n",
       "death                   0.960635   0.960635  0.960635  0.960635\n",
       "other_aid               0.824992   0.824992  0.824992  0.824992\n",
       "infrastructure_related  0.901587   0.901587  0.901587  0.901587\n",
       "transport               0.938816   0.938816  0.938816  0.938816\n",
       "buildings               0.947360   0.947360  0.947360  0.947360\n",
       "electricity             0.977266   0.977266  0.977266  0.977266\n",
       "tools                   0.989930   0.989930  0.989930  0.989930\n",
       "hospitals               0.981080   0.981080  0.981080  0.981080\n",
       "shops                   0.991303   0.991303  0.991303  0.991303\n",
       "aid_centers             0.979860   0.979860  0.979860  0.979860\n",
       "other_infrastructure    0.933323   0.933323  0.933323  0.933323\n",
       "weather_related         0.855966   0.855966  0.855966  0.855966\n",
       "floods                  0.937138   0.937138  0.937138  0.937138\n",
       "storm                   0.936680   0.936680  0.936680  0.936680\n",
       "fire                    0.984895   0.984895  0.984895  0.984895\n",
       "earthquake              0.962618   0.962618  0.962618  0.962618\n",
       "cold                    0.980165   0.980165  0.980165  0.980165\n",
       "other_weather           0.923711   0.923711  0.923711  0.923711\n",
       "direct_report           0.804547   0.804547  0.804547  0.804547"
      ]
     },
     "execution_count": 55,
     "metadata": {},
     "output_type": "execute_result"
    }
   ],
   "source": [
    "eval_metrics_moc"
   ]
  },
  {
   "cell_type": "code",
   "execution_count": 56,
   "metadata": {},
   "outputs": [
    {
     "data": {
      "text/html": [
       "<div>\n",
       "<style scoped>\n",
       "    .dataframe tbody tr th:only-of-type {\n",
       "        vertical-align: middle;\n",
       "    }\n",
       "\n",
       "    .dataframe tbody tr th {\n",
       "        vertical-align: top;\n",
       "    }\n",
       "\n",
       "    .dataframe thead th {\n",
       "        text-align: right;\n",
       "    }\n",
       "</style>\n",
       "<table border=\"1\" class=\"dataframe\">\n",
       "  <thead>\n",
       "    <tr style=\"text-align: right;\">\n",
       "      <th></th>\n",
       "      <th>Accuracy</th>\n",
       "      <th>Precision</th>\n",
       "      <th>Recall</th>\n",
       "      <th>F1</th>\n",
       "    </tr>\n",
       "  </thead>\n",
       "  <tbody>\n",
       "    <tr>\n",
       "      <th>count</th>\n",
       "      <td>36.000000</td>\n",
       "      <td>36.000000</td>\n",
       "      <td>36.000000</td>\n",
       "      <td>36.000000</td>\n",
       "    </tr>\n",
       "    <tr>\n",
       "      <th>mean</th>\n",
       "      <td>0.933183</td>\n",
       "      <td>0.933183</td>\n",
       "      <td>0.933183</td>\n",
       "      <td>0.933183</td>\n",
       "    </tr>\n",
       "    <tr>\n",
       "      <th>std</th>\n",
       "      <td>0.066522</td>\n",
       "      <td>0.066522</td>\n",
       "      <td>0.066522</td>\n",
       "      <td>0.066522</td>\n",
       "    </tr>\n",
       "    <tr>\n",
       "      <th>min</th>\n",
       "      <td>0.709643</td>\n",
       "      <td>0.709643</td>\n",
       "      <td>0.709643</td>\n",
       "      <td>0.709643</td>\n",
       "    </tr>\n",
       "    <tr>\n",
       "      <th>25%</th>\n",
       "      <td>0.926800</td>\n",
       "      <td>0.926800</td>\n",
       "      <td>0.926800</td>\n",
       "      <td>0.926800</td>\n",
       "    </tr>\n",
       "    <tr>\n",
       "      <th>50%</th>\n",
       "      <td>0.954837</td>\n",
       "      <td>0.954837</td>\n",
       "      <td>0.954837</td>\n",
       "      <td>0.954837</td>\n",
       "    </tr>\n",
       "    <tr>\n",
       "      <th>75%</th>\n",
       "      <td>0.979936</td>\n",
       "      <td>0.979936</td>\n",
       "      <td>0.979936</td>\n",
       "      <td>0.979936</td>\n",
       "    </tr>\n",
       "    <tr>\n",
       "      <th>max</th>\n",
       "      <td>1.000000</td>\n",
       "      <td>1.000000</td>\n",
       "      <td>1.000000</td>\n",
       "      <td>1.000000</td>\n",
       "    </tr>\n",
       "  </tbody>\n",
       "</table>\n",
       "</div>"
      ],
      "text/plain": [
       "        Accuracy  Precision     Recall         F1\n",
       "count  36.000000  36.000000  36.000000  36.000000\n",
       "mean    0.933183   0.933183   0.933183   0.933183\n",
       "std     0.066522   0.066522   0.066522   0.066522\n",
       "min     0.709643   0.709643   0.709643   0.709643\n",
       "25%     0.926800   0.926800   0.926800   0.926800\n",
       "50%     0.954837   0.954837   0.954837   0.954837\n",
       "75%     0.979936   0.979936   0.979936   0.979936\n",
       "max     1.000000   1.000000   1.000000   1.000000"
      ]
     },
     "execution_count": 56,
     "metadata": {},
     "output_type": "execute_result"
    }
   ],
   "source": [
    "eval_metrics_moc.describe()"
   ]
  },
  {
   "cell_type": "code",
   "execution_count": 57,
   "metadata": {},
   "outputs": [
    {
     "name": "stdout",
     "output_type": "stream",
     "text": [
      "F1 score mean:  0.933183297732\n"
     ]
    }
   ],
   "source": [
    "# Print mean f1 score\n",
    "print(\"F1 score mean: \", eval_metrics_moc['F1'].mean())"
   ]
  },
  {
   "cell_type": "markdown",
   "metadata": {},
   "source": [
    "### 9. Export your model as a pickle file"
   ]
  },
  {
   "cell_type": "markdown",
   "metadata": {},
   "source": [
    "I exported the first model because it has higher average f1 score than the tuned model and the model with decision tree classifier."
   ]
  },
  {
   "cell_type": "code",
   "execution_count": 78,
   "metadata": {},
   "outputs": [],
   "source": [
    "pickle.dump(model_initial, open('classifier.pkl', 'wb'))"
   ]
  },
  {
   "cell_type": "markdown",
   "metadata": {},
   "source": [
    "### 10. Use this notebook to complete `train.py`\n",
    "Use the template file attached in the Resources folder to write a script that runs the steps above to create a database and export a model based on a new dataset specified by the user."
   ]
  },
  {
   "cell_type": "code",
   "execution_count": null,
   "metadata": {},
   "outputs": [],
   "source": []
  }
 ],
 "metadata": {
  "kernelspec": {
   "display_name": "Python 3",
   "language": "python",
   "name": "python3"
  },
  "language_info": {
   "codemirror_mode": {
    "name": "ipython",
    "version": 3
   },
   "file_extension": ".py",
   "mimetype": "text/x-python",
   "name": "python",
   "nbconvert_exporter": "python",
   "pygments_lexer": "ipython3",
   "version": "3.6.3"
  }
 },
 "nbformat": 4,
 "nbformat_minor": 2
}
